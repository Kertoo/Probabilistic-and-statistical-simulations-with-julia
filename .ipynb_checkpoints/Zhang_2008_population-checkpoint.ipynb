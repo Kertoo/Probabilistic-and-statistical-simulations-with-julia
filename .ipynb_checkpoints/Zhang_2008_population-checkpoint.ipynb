{
 "cells": [
  {
   "cell_type": "code",
   "execution_count": 1,
   "id": "198fcb5a-c533-4f33-b3eb-0c1164188010",
   "metadata": {},
   "outputs": [],
   "source": [
    "using Random, Distributions, DataFrames, GLM"
   ]
  },
  {
   "cell_type": "code",
   "execution_count": 2,
   "id": "2b5383b8-30a4-4920-a2e8-a9ee93def760",
   "metadata": {},
   "outputs": [
    {
     "data": {
      "text/plain": [
       "100"
      ]
     },
     "execution_count": 2,
     "metadata": {},
     "output_type": "execute_result"
    }
   ],
   "source": [
    "α = 1.78\n",
    "β = 1\n",
    "Q = 100 # Liczba państw"
   ]
  },
  {
   "cell_type": "code",
   "execution_count": 3,
   "id": "d4da5c59-0cae-45ca-a597-f4f4b74cd6a6",
   "metadata": {},
   "outputs": [
    {
     "data": {
      "text/plain": [
       "100-element Vector{Int64}:\n",
       " 30\n",
       "  9\n",
       "  9\n",
       " 12\n",
       " 13\n",
       " 16\n",
       " 10\n",
       "  7\n",
       "  5\n",
       " 10\n",
       " 17\n",
       " 10\n",
       " 14\n",
       "  ⋮\n",
       " 36\n",
       " 54\n",
       " 11\n",
       " 16\n",
       " 26\n",
       " 17\n",
       "  7\n",
       " 65\n",
       " 20\n",
       "  5\n",
       " 31\n",
       " 24"
      ]
     },
     "execution_count": 3,
     "metadata": {},
     "output_type": "execute_result"
    }
   ],
   "source": [
    "p = rand(Uniform(.1,.75), Q)\n",
    "\n",
    "N = reduce(vcat, rand.(Binomial.(rand(DiscreteUniform(100, 1000), Q), .1), 1))\n",
    "M = reduce(vcat, rand.(Poisson.(N .^ α), 1))\n",
    "\n",
    "m = reduce(vcat, rand.(Poisson.(M .* p), 1))\n",
    "n = reduce(vcat, rand.(Binomial.(N, p), 1))"
   ]
  },
  {
   "cell_type": "code",
   "execution_count": 4,
   "id": "ac73f046-71a5-4ca8-9ba9-29eeaeaa444b",
   "metadata": {},
   "outputs": [
    {
     "data": {
      "text/html": [
       "<div><div style = \"float: left;\"><span>100×3 DataFrame</span></div><div style = \"float: right;\"><span style = \"font-style: italic;\">75 rows omitted</span></div><div style = \"clear: both;\"></div></div><div class = \"data-frame\" style = \"overflow-x: scroll;\"><table class = \"data-frame\" style = \"margin-bottom: 6px;\"><thead><tr class = \"header\"><th class = \"rowNumber\" style = \"font-weight: bold; text-align: right;\">Row</th><th style = \"text-align: left;\">y</th><th style = \"text-align: left;\">x1</th><th style = \"text-align: left;\">x2</th></tr><tr class = \"subheader headerLastRow\"><th class = \"rowNumber\" style = \"font-weight: bold; text-align: right;\"></th><th title = \"Float64\" style = \"text-align: left;\">Float64</th><th title = \"Float64\" style = \"text-align: left;\">Float64</th><th title = \"Float64\" style = \"text-align: left;\">Float64</th></tr></thead><tbody><tr><td class = \"rowNumber\" style = \"font-weight: bold; text-align: right;\">1</td><td style = \"text-align: right;\">2.31598</td><td style = \"text-align: right;\">4.48864</td><td style = \"text-align: right;\">-1.08744</td></tr><tr><td class = \"rowNumber\" style = \"font-weight: bold; text-align: right;\">2</td><td style = \"text-align: right;\">1.63142</td><td style = \"text-align: right;\">2.89037</td><td style = \"text-align: right;\">-0.693147</td></tr><tr><td class = \"rowNumber\" style = \"font-weight: bold; text-align: right;\">3</td><td style = \"text-align: right;\">2.00092</td><td style = \"text-align: right;\">3.8712</td><td style = \"text-align: right;\">-1.67398</td></tr><tr><td class = \"rowNumber\" style = \"font-weight: bold; text-align: right;\">4</td><td style = \"text-align: right;\">1.67765</td><td style = \"text-align: right;\">2.83321</td><td style = \"text-align: right;\">-0.348307</td></tr><tr><td class = \"rowNumber\" style = \"font-weight: bold; text-align: right;\">5</td><td style = \"text-align: right;\">1.24479</td><td style = \"text-align: right;\">4.27667</td><td style = \"text-align: right;\">-1.71172</td></tr><tr><td class = \"rowNumber\" style = \"font-weight: bold; text-align: right;\">6</td><td style = \"text-align: right;\">2.18566</td><td style = \"text-align: right;\">3.3673</td><td style = \"text-align: right;\">-0.594707</td></tr><tr><td class = \"rowNumber\" style = \"font-weight: bold; text-align: right;\">7</td><td style = \"text-align: right;\">1.89184</td><td style = \"text-align: right;\">2.94444</td><td style = \"text-align: right;\">-0.641854</td></tr><tr><td class = \"rowNumber\" style = \"font-weight: bold; text-align: right;\">8</td><td style = \"text-align: right;\">0.670158</td><td style = \"text-align: right;\">3.09104</td><td style = \"text-align: right;\">-1.14513</td></tr><tr><td class = \"rowNumber\" style = \"font-weight: bold; text-align: right;\">9</td><td style = \"text-align: right;\">1.14072</td><td style = \"text-align: right;\">4.12713</td><td style = \"text-align: right;\">-2.5177</td></tr><tr><td class = \"rowNumber\" style = \"font-weight: bold; text-align: right;\">10</td><td style = \"text-align: right;\">1.62113</td><td style = \"text-align: right;\">3.52636</td><td style = \"text-align: right;\">-1.22378</td></tr><tr><td class = \"rowNumber\" style = \"font-weight: bold; text-align: right;\">11</td><td style = \"text-align: right;\">1.69133</td><td style = \"text-align: right;\">4.31749</td><td style = \"text-align: right;\">-1.48427</td></tr><tr><td class = \"rowNumber\" style = \"font-weight: bold; text-align: right;\">12</td><td style = \"text-align: right;\">1.39586</td><td style = \"text-align: right;\">3.2581</td><td style = \"text-align: right;\">-0.955511</td></tr><tr><td class = \"rowNumber\" style = \"font-weight: bold; text-align: right;\">13</td><td style = \"text-align: right;\">1.5009</td><td style = \"text-align: right;\">3.55535</td><td style = \"text-align: right;\">-0.916291</td></tr><tr><td style = \"text-align: right;\">&vellip;</td><td style = \"text-align: right;\">&vellip;</td><td style = \"text-align: right;\">&vellip;</td><td style = \"text-align: right;\">&vellip;</td></tr><tr><td class = \"rowNumber\" style = \"font-weight: bold; text-align: right;\">89</td><td style = \"text-align: right;\">2.87033</td><td style = \"text-align: right;\">4.02535</td><td style = \"text-align: right;\">-0.441833</td></tr><tr><td class = \"rowNumber\" style = \"font-weight: bold; text-align: right;\">90</td><td style = \"text-align: right;\">2.91356</td><td style = \"text-align: right;\">4.49981</td><td style = \"text-align: right;\">-0.510826</td></tr><tr><td class = \"rowNumber\" style = \"font-weight: bold; text-align: right;\">91</td><td style = \"text-align: right;\">1.34807</td><td style = \"text-align: right;\">4.38203</td><td style = \"text-align: right;\">-1.98413</td></tr><tr><td class = \"rowNumber\" style = \"font-weight: bold; text-align: right;\">92</td><td style = \"text-align: right;\">1.53328</td><td style = \"text-align: right;\">4.09434</td><td style = \"text-align: right;\">-1.32176</td></tr><tr><td class = \"rowNumber\" style = \"font-weight: bold; text-align: right;\">93</td><td style = \"text-align: right;\">2.23084</td><td style = \"text-align: right;\">3.66356</td><td style = \"text-align: right;\">-0.405465</td></tr><tr><td class = \"rowNumber\" style = \"font-weight: bold; text-align: right;\">94</td><td style = \"text-align: right;\">1.80152</td><td style = \"text-align: right;\">4.21951</td><td style = \"text-align: right;\">-1.38629</td></tr><tr><td class = \"rowNumber\" style = \"font-weight: bold; text-align: right;\">95</td><td style = \"text-align: right;\">1.34373</td><td style = \"text-align: right;\">3.17805</td><td style = \"text-align: right;\">-1.23214</td></tr><tr><td class = \"rowNumber\" style = \"font-weight: bold; text-align: right;\">96</td><td style = \"text-align: right;\">3.11816</td><td style = \"text-align: right;\">4.45435</td><td style = \"text-align: right;\">-0.27996</td></tr><tr><td class = \"rowNumber\" style = \"font-weight: bold; text-align: right;\">97</td><td style = \"text-align: right;\">1.90707</td><td style = \"text-align: right;\">4.49981</td><td style = \"text-align: right;\">-1.50408</td></tr><tr><td class = \"rowNumber\" style = \"font-weight: bold; text-align: right;\">98</td><td style = \"text-align: right;\">1.43848</td><td style = \"text-align: right;\">2.63906</td><td style = \"text-align: right;\">-1.02962</td></tr><tr><td class = \"rowNumber\" style = \"font-weight: bold; text-align: right;\">99</td><td style = \"text-align: right;\">2.58505</td><td style = \"text-align: right;\">4.27667</td><td style = \"text-align: right;\">-0.842679</td></tr><tr><td class = \"rowNumber\" style = \"font-weight: bold; text-align: right;\">100</td><td style = \"text-align: right;\">2.33699</td><td style = \"text-align: right;\">3.68888</td><td style = \"text-align: right;\">-0.510826</td></tr></tbody></table></div>"
      ],
      "text/latex": [
       "\\begin{tabular}{r|ccc}\n",
       "\t& y & x1 & x2\\\\\n",
       "\t\\hline\n",
       "\t& Float64 & Float64 & Float64\\\\\n",
       "\t\\hline\n",
       "\t1 & 2.31598 & 4.48864 & -1.08744 \\\\\n",
       "\t2 & 1.63142 & 2.89037 & -0.693147 \\\\\n",
       "\t3 & 2.00092 & 3.8712 & -1.67398 \\\\\n",
       "\t4 & 1.67765 & 2.83321 & -0.348307 \\\\\n",
       "\t5 & 1.24479 & 4.27667 & -1.71172 \\\\\n",
       "\t6 & 2.18566 & 3.3673 & -0.594707 \\\\\n",
       "\t7 & 1.89184 & 2.94444 & -0.641854 \\\\\n",
       "\t8 & 0.670158 & 3.09104 & -1.14513 \\\\\n",
       "\t9 & 1.14072 & 4.12713 & -2.5177 \\\\\n",
       "\t10 & 1.62113 & 3.52636 & -1.22378 \\\\\n",
       "\t11 & 1.69133 & 4.31749 & -1.48427 \\\\\n",
       "\t12 & 1.39586 & 3.2581 & -0.955511 \\\\\n",
       "\t13 & 1.5009 & 3.55535 & -0.916291 \\\\\n",
       "\t14 & 1.99021 & 4.40672 & -1.92181 \\\\\n",
       "\t15 & 1.52147 & 2.94444 & -0.641854 \\\\\n",
       "\t16 & 2.44463 & 3.63759 & -0.459532 \\\\\n",
       "\t17 & 1.45691 & 4.40672 & -2.10413 \\\\\n",
       "\t18 & 1.35455 & 3.17805 & -1.38629 \\\\\n",
       "\t19 & 1.22692 & 4.02535 & -1.72277 \\\\\n",
       "\t20 & 2.7608 & 4.56435 & -0.875469 \\\\\n",
       "\t21 & 2.33092 & 4.46591 & -1.17007 \\\\\n",
       "\t22 & 3.07885 & 4.49981 & -0.340927 \\\\\n",
       "\t23 & 0.517257 & 3.43399 & -2.33537 \\\\\n",
       "\t24 & 1.80885 & 4.46591 & -1.57554 \\\\\n",
       "\t25 & 2.4418 & 4.36945 & -0.935461 \\\\\n",
       "\t26 & 0.672094 & 3.17805 & -1.79176 \\\\\n",
       "\t27 & 2.70101 & 4.04305 & -0.405465 \\\\\n",
       "\t28 & 1.88707 & 2.99573 & -0.510826 \\\\\n",
       "\t29 & 2.2679 & 3.78419 & -0.488353 \\\\\n",
       "\t30 & 2.23308 & 4.2485 & -0.881199 \\\\\n",
       "\t$\\dots$ & $\\dots$ & $\\dots$ & $\\dots$ \\\\\n",
       "\\end{tabular}\n"
      ],
      "text/plain": [
       "\u001b[1m100×3 DataFrame\u001b[0m\n",
       "\u001b[1m Row \u001b[0m│\u001b[1m y        \u001b[0m\u001b[1m x1      \u001b[0m\u001b[1m x2        \u001b[0m\n",
       "     │\u001b[90m Float64  \u001b[0m\u001b[90m Float64 \u001b[0m\u001b[90m Float64   \u001b[0m\n",
       "─────┼──────────────────────────────\n",
       "   1 │ 2.31598   4.48864  -1.08744\n",
       "   2 │ 1.63142   2.89037  -0.693147\n",
       "   3 │ 2.00092   3.8712   -1.67398\n",
       "   4 │ 1.67765   2.83321  -0.348307\n",
       "   5 │ 1.24479   4.27667  -1.71172\n",
       "   6 │ 2.18566   3.3673   -0.594707\n",
       "   7 │ 1.89184   2.94444  -0.641854\n",
       "   8 │ 0.670158  3.09104  -1.14513\n",
       "   9 │ 1.14072   4.12713  -2.5177\n",
       "  10 │ 1.62113   3.52636  -1.22378\n",
       "  11 │ 1.69133   4.31749  -1.48427\n",
       "  ⋮  │    ⋮         ⋮         ⋮\n",
       "  91 │ 1.34807   4.38203  -1.98413\n",
       "  92 │ 1.53328   4.09434  -1.32176\n",
       "  93 │ 2.23084   3.66356  -0.405465\n",
       "  94 │ 1.80152   4.21951  -1.38629\n",
       "  95 │ 1.34373   3.17805  -1.23214\n",
       "  96 │ 3.11816   4.45435  -0.27996\n",
       "  97 │ 1.90707   4.49981  -1.50408\n",
       "  98 │ 1.43848   2.63906  -1.02962\n",
       "  99 │ 2.58505   4.27667  -0.842679\n",
       " 100 │ 2.33699   3.68888  -0.510826\n",
       "\u001b[36m                     79 rows omitted\u001b[0m"
      ]
     },
     "execution_count": 4,
     "metadata": {},
     "output_type": "execute_result"
    }
   ],
   "source": [
    "df = DataFrame(\n",
    "    y = log.(m ./ N),\n",
    "    x1 = log.(N),\n",
    "    x2 = log.(n ./ N)\n",
    ")"
   ]
  },
  {
   "cell_type": "code",
   "execution_count": 5,
   "id": "1f9c4947-c412-4a40-b234-ab2b1585fe60",
   "metadata": {},
   "outputs": [
    {
     "data": {
      "text/plain": [
       "StatsModels.TableRegressionModel{LinearModel{GLM.LmResp{Vector{Float64}}, GLM.DensePredChol{Float64, LinearAlgebra.CholeskyPivoted{Float64, Matrix{Float64}, Vector{Int64}}}}, Matrix{Float64}}\n",
       "\n",
       "y ~ 0 + x1 + x2\n",
       "\n",
       "Coefficients:\n",
       "───────────────────────────────────────────────────────────────\n",
       "      Coef.  Std. Error       t  Pr(>|t|)  Lower 95%  Upper 95%\n",
       "───────────────────────────────────────────────────────────────\n",
       "x1  1.72176   0.0139874  123.09    <1e-99   1.694      1.74951\n",
       "x2  0.76965   0.0409743   18.78    <1e-33   0.688338   0.850963\n",
       "───────────────────────────────────────────────────────────────"
      ]
     },
     "execution_count": 5,
     "metadata": {},
     "output_type": "execute_result"
    }
   ],
   "source": [
    "df1 = DataFrame(\n",
    "    y = log.(m),\n",
    "    x1 = log.(N),\n",
    "    x2 = log.(n ./ N)\n",
    ")\n",
    "lm(@formula(y ~ x1 + x2 + 0), df1)"
   ]
  },
  {
   "cell_type": "code",
   "execution_count": 6,
   "id": "371f47ca-3697-41ce-a8af-d4200689fe78",
   "metadata": {},
   "outputs": [
    {
     "data": {
      "text/plain": [
       "StatsModels.TableRegressionModel{LinearModel{GLM.LmResp{Vector{Float64}}, GLM.DensePredChol{Float64, LinearAlgebra.CholeskyPivoted{Float64, Matrix{Float64}, Vector{Int64}}}}, Matrix{Float64}}\n",
       "\n",
       "y ~ 0 + x1 + x2\n",
       "\n",
       "Coefficients:\n",
       "───────────────────────────────────────────────────────────────\n",
       "       Coef.  Std. Error      t  Pr(>|t|)  Lower 95%  Upper 95%\n",
       "───────────────────────────────────────────────────────────────\n",
       "x1  0.721757   0.0139874  51.60    <1e-72   0.693999   0.749515\n",
       "x2  0.76965    0.0409743  18.78    <1e-33   0.688338   0.850963\n",
       "───────────────────────────────────────────────────────────────"
      ]
     },
     "execution_count": 6,
     "metadata": {},
     "output_type": "execute_result"
    }
   ],
   "source": [
    "ols = lm(@formula(y ~ x1 + x2 + 0), df)"
   ]
  },
  {
   "cell_type": "code",
   "execution_count": 7,
   "id": "8576b366-8150-44a0-8e1f-2dda77e58442",
   "metadata": {},
   "outputs": [
    {
     "data": {
      "text/plain": [
       "2-element Vector{Float64}:\n",
       " 1.7217569537235904\n",
       " 0.7696504022456492"
      ]
     },
     "execution_count": 7,
     "metadata": {},
     "output_type": "execute_result"
    }
   ],
   "source": [
    "α̂, β̂ = coef(ols) + [1;0]"
   ]
  },
  {
   "cell_type": "code",
   "execution_count": 8,
   "id": "23792670-2173-463d-a7d0-bdea33457528",
   "metadata": {},
   "outputs": [
    {
     "data": {
      "text/plain": [
       "100-element Vector{Float64}:\n",
       " 2271.8298392112274\n",
       "  144.96867331908734\n",
       "  784.6731485425602\n",
       "  131.3814306107747\n",
       " 1577.157774452257\n",
       "  329.5292136384435\n",
       "  159.11198893116142\n",
       "  204.7979407789474\n",
       " 1219.1660353542293\n",
       "  433.345683428168\n",
       " 1691.9977021537534\n",
       "  273.04875534347985\n",
       "  455.522561964361\n",
       "    ⋮\n",
       " 1023.1867132629354\n",
       " 2315.9577371627906\n",
       " 1890.8558375337666\n",
       " 1152.2435351416655\n",
       "  548.8157305934928\n",
       " 1429.3380767192325\n",
       "  237.89663716465995\n",
       " 2141.5891622854565\n",
       " 2315.9577371627906\n",
       "   94.04894220615299\n",
       " 1577.157774452257\n",
       "  573.268304067692"
      ]
     },
     "execution_count": 8,
     "metadata": {},
     "output_type": "execute_result"
    }
   ],
   "source": [
    "ξ̂ = N .^ α̂"
   ]
  },
  {
   "cell_type": "code",
   "execution_count": 9,
   "id": "90443a54-2a5b-411c-ae6c-c69074ef80f8",
   "metadata": {},
   "outputs": [
    {
     "name": "stdout",
     "output_type": "stream",
     "text": [
      "[sum(M), sum(N .^ α), sum(ξ̂)] = [138385.0, 138960.2763015329, 108618.01925650507]\n"
     ]
    },
    {
     "data": {
      "text/plain": [
       "3-element Vector{Float64}:\n",
       " 138385.0\n",
       " 138960.2763015329\n",
       " 108618.01925650507"
      ]
     },
     "execution_count": 9,
     "metadata": {},
     "output_type": "execute_result"
    }
   ],
   "source": [
    "@show [sum(M), sum(N .^ α), sum(ξ̂)]"
   ]
  },
  {
   "cell_type": "code",
   "execution_count": null,
   "id": "3f96039e-4a27-4ac6-b4d8-763ef6d0ee25",
   "metadata": {},
   "outputs": [],
   "source": []
  }
 ],
 "metadata": {
  "kernelspec": {
   "display_name": "Julia 1.8.3",
   "language": "julia",
   "name": "julia-1.8"
  },
  "language_info": {
   "file_extension": ".jl",
   "mimetype": "application/julia",
   "name": "julia",
   "version": "1.8.3"
  }
 },
 "nbformat": 4,
 "nbformat_minor": 5
}
