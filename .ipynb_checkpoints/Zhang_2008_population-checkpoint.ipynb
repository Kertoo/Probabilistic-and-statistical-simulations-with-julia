{
 "cells": [
  {
   "cell_type": "code",
   "execution_count": 51,
   "id": "198fcb5a-c533-4f33-b3eb-0c1164188010",
   "metadata": {},
   "outputs": [],
   "source": [
    "using Random, Distributions, DataFrames, GLM, Statistics"
   ]
  },
  {
   "cell_type": "code",
   "execution_count": 8,
   "id": "2b5383b8-30a4-4920-a2e8-a9ee93def760",
   "metadata": {},
   "outputs": [
    {
     "data": {
      "text/plain": [
       "100"
      ]
     },
     "execution_count": 8,
     "metadata": {},
     "output_type": "execute_result"
    }
   ],
   "source": [
    "α = 1.78\n",
    "β = 1\n",
    "Q = 100 # Liczba państw"
   ]
  },
  {
   "cell_type": "code",
   "execution_count": 13,
   "id": "d4da5c59-0cae-45ca-a597-f4f4b74cd6a6",
   "metadata": {},
   "outputs": [
    {
     "data": {
      "text/plain": [
       "100-element Vector{Int64}:\n",
       " 23\n",
       " 44\n",
       "  5\n",
       " 20\n",
       " 64\n",
       " 13\n",
       "  7\n",
       " 18\n",
       "  3\n",
       " 18\n",
       "  4\n",
       " 11\n",
       " 40\n",
       "  ⋮\n",
       " 15\n",
       " 37\n",
       " 27\n",
       " 52\n",
       " 13\n",
       " 60\n",
       " 10\n",
       " 22\n",
       " 49\n",
       " 27\n",
       "  4\n",
       " 27"
      ]
     },
     "execution_count": 13,
     "metadata": {},
     "output_type": "execute_result"
    }
   ],
   "source": [
    "p = rand(Uniform(.1,.75), Q)\n",
    "\n",
    "N = reduce(vcat, rand.(Binomial.(rand(DiscreteUniform(100, 1000), Q), .1), 1))\n",
    "M = reduce(vcat, rand.(Poisson.(N .^ α), 1))\n",
    "\n",
    "m = reduce(vcat, rand.(Poisson.(M .* p), 1))\n",
    "n = reduce(vcat, rand.(Binomial.(N, p), 1))"
   ]
  },
  {
   "cell_type": "code",
   "execution_count": 14,
   "id": "ac73f046-71a5-4ca8-9ba9-29eeaeaa444b",
   "metadata": {},
   "outputs": [
    {
     "data": {
      "text/html": [
       "<div><div style = \"float: left;\"><span>100×3 DataFrame</span></div><div style = \"float: right;\"><span style = \"font-style: italic;\">75 rows omitted</span></div><div style = \"clear: both;\"></div></div><div class = \"data-frame\" style = \"overflow-x: scroll;\"><table class = \"data-frame\" style = \"margin-bottom: 6px;\"><thead><tr class = \"header\"><th class = \"rowNumber\" style = \"font-weight: bold; text-align: right;\">Row</th><th style = \"text-align: left;\">y</th><th style = \"text-align: left;\">x1</th><th style = \"text-align: left;\">x2</th></tr><tr class = \"subheader headerLastRow\"><th class = \"rowNumber\" style = \"font-weight: bold; text-align: right;\"></th><th title = \"Float64\" style = \"text-align: left;\">Float64</th><th title = \"Float64\" style = \"text-align: left;\">Float64</th><th title = \"Float64\" style = \"text-align: left;\">Float64</th></tr></thead><tbody><tr><td class = \"rowNumber\" style = \"font-weight: bold; text-align: right;\">1</td><td style = \"text-align: right;\">1.73912</td><td style = \"text-align: right;\">3.95124</td><td style = \"text-align: right;\">-0.81575</td></tr><tr><td class = \"rowNumber\" style = \"font-weight: bold; text-align: right;\">2</td><td style = \"text-align: right;\">2.84701</td><td style = \"text-align: right;\">4.27667</td><td style = \"text-align: right;\">-0.492476</td></tr><tr><td class = \"rowNumber\" style = \"font-weight: bold; text-align: right;\">3</td><td style = \"text-align: right;\">0.76214</td><td style = \"text-align: right;\">3.89182</td><td style = \"text-align: right;\">-2.28238</td></tr><tr><td class = \"rowNumber\" style = \"font-weight: bold; text-align: right;\">4</td><td style = \"text-align: right;\">1.84583</td><td style = \"text-align: right;\">3.80666</td><td style = \"text-align: right;\">-0.81093</td></tr><tr><td class = \"rowNumber\" style = \"font-weight: bold; text-align: right;\">5</td><td style = \"text-align: right;\">3.07612</td><td style = \"text-align: right;\">4.48864</td><td style = \"text-align: right;\">-0.329753</td></tr><tr><td class = \"rowNumber\" style = \"font-weight: bold; text-align: right;\">6</td><td style = \"text-align: right;\">1.51983</td><td style = \"text-align: right;\">3.3322</td><td style = \"text-align: right;\">-0.767255</td></tr><tr><td class = \"rowNumber\" style = \"font-weight: bold; text-align: right;\">7</td><td style = \"text-align: right;\">1.36524</td><td style = \"text-align: right;\">2.48491</td><td style = \"text-align: right;\">-0.538997</td></tr><tr><td class = \"rowNumber\" style = \"font-weight: bold; text-align: right;\">8</td><td style = \"text-align: right;\">1.85494</td><td style = \"text-align: right;\">4.52179</td><td style = \"text-align: right;\">-1.63142</td></tr><tr><td class = \"rowNumber\" style = \"font-weight: bold; text-align: right;\">9</td><td style = \"text-align: right;\">0.63908</td><td style = \"text-align: right;\">2.94444</td><td style = \"text-align: right;\">-1.84583</td></tr><tr><td class = \"rowNumber\" style = \"font-weight: bold; text-align: right;\">10</td><td style = \"text-align: right;\">2.23496</td><td style = \"text-align: right;\">3.95124</td><td style = \"text-align: right;\">-1.06087</td></tr><tr><td class = \"rowNumber\" style = \"font-weight: bold; text-align: right;\">11</td><td style = \"text-align: right;\">1.09861</td><td style = \"text-align: right;\">1.79176</td><td style = \"text-align: right;\">-0.405465</td></tr><tr><td class = \"rowNumber\" style = \"font-weight: bold; text-align: right;\">12</td><td style = \"text-align: right;\">1.93836</td><td style = \"text-align: right;\">4.04305</td><td style = \"text-align: right;\">-1.64516</td></tr><tr><td class = \"rowNumber\" style = \"font-weight: bold; text-align: right;\">13</td><td style = \"text-align: right;\">2.80336</td><td style = \"text-align: right;\">4.06044</td><td style = \"text-align: right;\">-0.371564</td></tr><tr><td style = \"text-align: right;\">&vellip;</td><td style = \"text-align: right;\">&vellip;</td><td style = \"text-align: right;\">&vellip;</td><td style = \"text-align: right;\">&vellip;</td></tr><tr><td class = \"rowNumber\" style = \"font-weight: bold; text-align: right;\">89</td><td style = \"text-align: right;\">2.03229</td><td style = \"text-align: right;\">2.94444</td><td style = \"text-align: right;\">-0.236389</td></tr><tr><td class = \"rowNumber\" style = \"font-weight: bold; text-align: right;\">90</td><td style = \"text-align: right;\">2.61749</td><td style = \"text-align: right;\">4.34381</td><td style = \"text-align: right;\">-0.732888</td></tr><tr><td class = \"rowNumber\" style = \"font-weight: bold; text-align: right;\">91</td><td style = \"text-align: right;\">2.53521</td><td style = \"text-align: right;\">4.14313</td><td style = \"text-align: right;\">-0.847298</td></tr><tr><td class = \"rowNumber\" style = \"font-weight: bold; text-align: right;\">92</td><td style = \"text-align: right;\">3.13124</td><td style = \"text-align: right;\">4.40672</td><td style = \"text-align: right;\">-0.455476</td></tr><tr><td class = \"rowNumber\" style = \"font-weight: bold; text-align: right;\">93</td><td style = \"text-align: right;\">1.72344</td><td style = \"text-align: right;\">3.97029</td><td style = \"text-align: right;\">-1.40534</td></tr><tr><td class = \"rowNumber\" style = \"font-weight: bold; text-align: right;\">94</td><td style = \"text-align: right;\">3.13126</td><td style = \"text-align: right;\">4.63473</td><td style = \"text-align: right;\">-0.540384</td></tr><tr><td class = \"rowNumber\" style = \"font-weight: bold; text-align: right;\">95</td><td style = \"text-align: right;\">1.08725</td><td style = \"text-align: right;\">4.07754</td><td style = \"text-align: right;\">-1.77495</td></tr><tr><td class = \"rowNumber\" style = \"font-weight: bold; text-align: right;\">96</td><td style = \"text-align: right;\">2.18083</td><td style = \"text-align: right;\">3.71357</td><td style = \"text-align: right;\">-0.62253</td></tr><tr><td class = \"rowNumber\" style = \"font-weight: bold; text-align: right;\">97</td><td style = \"text-align: right;\">2.90758</td><td style = \"text-align: right;\">4.38203</td><td style = \"text-align: right;\">-0.490206</td></tr><tr><td class = \"rowNumber\" style = \"font-weight: bold; text-align: right;\">98</td><td style = \"text-align: right;\">2.28436</td><td style = \"text-align: right;\">4.27667</td><td style = \"text-align: right;\">-0.980829</td></tr><tr><td class = \"rowNumber\" style = \"font-weight: bold; text-align: right;\">99</td><td style = \"text-align: right;\">0.570545</td><td style = \"text-align: right;\">2.56495</td><td style = \"text-align: right;\">-1.17865</td></tr><tr><td class = \"rowNumber\" style = \"font-weight: bold; text-align: right;\">100</td><td style = \"text-align: right;\">2.29253</td><td style = \"text-align: right;\">3.4012</td><td style = \"text-align: right;\">-0.105361</td></tr></tbody></table></div>"
      ],
      "text/latex": [
       "\\begin{tabular}{r|ccc}\n",
       "\t& y & x1 & x2\\\\\n",
       "\t\\hline\n",
       "\t& Float64 & Float64 & Float64\\\\\n",
       "\t\\hline\n",
       "\t1 & 1.73912 & 3.95124 & -0.81575 \\\\\n",
       "\t2 & 2.84701 & 4.27667 & -0.492476 \\\\\n",
       "\t3 & 0.76214 & 3.89182 & -2.28238 \\\\\n",
       "\t4 & 1.84583 & 3.80666 & -0.81093 \\\\\n",
       "\t5 & 3.07612 & 4.48864 & -0.329753 \\\\\n",
       "\t6 & 1.51983 & 3.3322 & -0.767255 \\\\\n",
       "\t7 & 1.36524 & 2.48491 & -0.538997 \\\\\n",
       "\t8 & 1.85494 & 4.52179 & -1.63142 \\\\\n",
       "\t9 & 0.63908 & 2.94444 & -1.84583 \\\\\n",
       "\t10 & 2.23496 & 3.95124 & -1.06087 \\\\\n",
       "\t11 & 1.09861 & 1.79176 & -0.405465 \\\\\n",
       "\t12 & 1.93836 & 4.04305 & -1.64516 \\\\\n",
       "\t13 & 2.80336 & 4.06044 & -0.371564 \\\\\n",
       "\t14 & 1.86683 & 4.12713 & -1.1827 \\\\\n",
       "\t15 & 3.01075 & 4.33073 & -0.341749 \\\\\n",
       "\t16 & 2.14233 & 4.64439 & -1.46634 \\\\\n",
       "\t17 & 1.43797 & 3.49651 & -1.5506 \\\\\n",
       "\t18 & 2.61429 & 4.29046 & -0.60158 \\\\\n",
       "\t19 & 1.652 & 3.82864 & -1.52606 \\\\\n",
       "\t20 & 2.47003 & 4.36945 & -1.11135 \\\\\n",
       "\t21 & 2.7263 & 4.33073 & -0.667172 \\\\\n",
       "\t22 & 0.737599 & 3.78419 & -2.17475 \\\\\n",
       "\t23 & 1.9667 & 3.52636 & -0.753772 \\\\\n",
       "\t24 & 3.31978 & 4.67283 & -0.242012 \\\\\n",
       "\t25 & 2.58725 & 4.06044 & -0.422857 \\\\\n",
       "\t26 & 1.05779 & 3.21888 & -1.13943 \\\\\n",
       "\t27 & 1.31945 & 4.06044 & -1.981 \\\\\n",
       "\t28 & 2.41436 & 4.74493 & -1.13401 \\\\\n",
       "\t29 & 1.57122 & 4.15888 & -1.76099 \\\\\n",
       "\t30 & 2.10642 & 3.46574 & -0.900787 \\\\\n",
       "\t$\\dots$ & $\\dots$ & $\\dots$ & $\\dots$ \\\\\n",
       "\\end{tabular}\n"
      ],
      "text/plain": [
       "\u001b[1m100×3 DataFrame\u001b[0m\n",
       "\u001b[1m Row \u001b[0m│\u001b[1m y        \u001b[0m\u001b[1m x1      \u001b[0m\u001b[1m x2        \u001b[0m\n",
       "     │\u001b[90m Float64  \u001b[0m\u001b[90m Float64 \u001b[0m\u001b[90m Float64   \u001b[0m\n",
       "─────┼──────────────────────────────\n",
       "   1 │ 1.73912   3.95124  -0.81575\n",
       "   2 │ 2.84701   4.27667  -0.492476\n",
       "   3 │ 0.76214   3.89182  -2.28238\n",
       "   4 │ 1.84583   3.80666  -0.81093\n",
       "   5 │ 3.07612   4.48864  -0.329753\n",
       "   6 │ 1.51983   3.3322   -0.767255\n",
       "   7 │ 1.36524   2.48491  -0.538997\n",
       "   8 │ 1.85494   4.52179  -1.63142\n",
       "   9 │ 0.63908   2.94444  -1.84583\n",
       "  10 │ 2.23496   3.95124  -1.06087\n",
       "  11 │ 1.09861   1.79176  -0.405465\n",
       "  ⋮  │    ⋮         ⋮         ⋮\n",
       "  91 │ 2.53521   4.14313  -0.847298\n",
       "  92 │ 3.13124   4.40672  -0.455476\n",
       "  93 │ 1.72344   3.97029  -1.40534\n",
       "  94 │ 3.13126   4.63473  -0.540384\n",
       "  95 │ 1.08725   4.07754  -1.77495\n",
       "  96 │ 2.18083   3.71357  -0.62253\n",
       "  97 │ 2.90758   4.38203  -0.490206\n",
       "  98 │ 2.28436   4.27667  -0.980829\n",
       "  99 │ 0.570545  2.56495  -1.17865\n",
       " 100 │ 2.29253   3.4012   -0.105361\n",
       "\u001b[36m                     79 rows omitted\u001b[0m"
      ]
     },
     "execution_count": 14,
     "metadata": {},
     "output_type": "execute_result"
    }
   ],
   "source": [
    "df = DataFrame(\n",
    "    y = log.(m ./ N),\n",
    "    x1 = log.(N),\n",
    "    x2 = log.(n ./ N)\n",
    ")"
   ]
  },
  {
   "cell_type": "code",
   "execution_count": 15,
   "id": "1f9c4947-c412-4a40-b234-ab2b1585fe60",
   "metadata": {},
   "outputs": [
    {
     "data": {
      "text/plain": [
       "StatsModels.TableRegressionModel{LinearModel{GLM.LmResp{Vector{Float64}}, GLM.DensePredChol{Float64, LinearAlgebra.CholeskyPivoted{Float64, Matrix{Float64}, Vector{Int64}}}}, Matrix{Float64}}\n",
       "\n",
       "y ~ 0 + x1 + x2\n",
       "\n",
       "Coefficients:\n",
       "────────────────────────────────────────────────────────────────\n",
       "       Coef.  Std. Error       t  Pr(>|t|)  Lower 95%  Upper 95%\n",
       "────────────────────────────────────────────────────────────────\n",
       "x1  1.74173   0.00921473  189.02    <1e-99   1.72345    1.76002\n",
       "x2  0.859601  0.0305441    28.14    <1e-48   0.798987   0.920215\n",
       "────────────────────────────────────────────────────────────────"
      ]
     },
     "execution_count": 15,
     "metadata": {},
     "output_type": "execute_result"
    }
   ],
   "source": [
    "df1 = DataFrame(\n",
    "    y = log.(m),\n",
    "    x1 = log.(N),\n",
    "    x2 = log.(n ./ N)\n",
    ")\n",
    "lm(@formula(y ~ x1 + x2 + 0), df1)"
   ]
  },
  {
   "cell_type": "code",
   "execution_count": 16,
   "id": "371f47ca-3697-41ce-a8af-d4200689fe78",
   "metadata": {},
   "outputs": [
    {
     "data": {
      "text/plain": [
       "StatsModels.TableRegressionModel{LinearModel{GLM.LmResp{Vector{Float64}}, GLM.DensePredChol{Float64, LinearAlgebra.CholeskyPivoted{Float64, Matrix{Float64}, Vector{Int64}}}}, Matrix{Float64}}\n",
       "\n",
       "y ~ 0 + x1 + x2\n",
       "\n",
       "Coefficients:\n",
       "───────────────────────────────────────────────────────────────\n",
       "       Coef.  Std. Error      t  Pr(>|t|)  Lower 95%  Upper 95%\n",
       "───────────────────────────────────────────────────────────────\n",
       "x1  0.741734  0.00921473  80.49    <1e-90   0.723447   0.76002\n",
       "x2  0.859601  0.0305441   28.14    <1e-48   0.798987   0.920215\n",
       "───────────────────────────────────────────────────────────────"
      ]
     },
     "execution_count": 16,
     "metadata": {},
     "output_type": "execute_result"
    }
   ],
   "source": [
    "ols = lm(@formula(y ~ x1 + x2 + 0), df)"
   ]
  },
  {
   "cell_type": "code",
   "execution_count": 17,
   "id": "8576b366-8150-44a0-8e1f-2dda77e58442",
   "metadata": {},
   "outputs": [
    {
     "data": {
      "text/plain": [
       "2-element Vector{Float64}:\n",
       " 1.741733781387878\n",
       " 0.8596013249854224"
      ]
     },
     "execution_count": 17,
     "metadata": {},
     "output_type": "execute_result"
    }
   ],
   "source": [
    "α̂, β̂ = coef(ols) + [1;0]"
   ]
  },
  {
   "cell_type": "code",
   "execution_count": 18,
   "id": "23792670-2173-463d-a7d0-bdea33457528",
   "metadata": {},
   "outputs": [
    {
     "data": {
      "text/plain": [
       "100-element Vector{Float64}:\n",
       "  974.5878494846565\n",
       " 1717.8243411839537\n",
       "  878.7626902833413\n",
       "  757.6281157419498\n",
       " 2484.9544230279644\n",
       "  331.5614499620902\n",
       "   75.79602537072704\n",
       " 2632.664991663708\n",
       "  168.75177314939867\n",
       "  974.5878494846565\n",
       "   22.663778645145022\n",
       " 1143.5800016098005\n",
       " 1178.7510902515182\n",
       "    ⋮\n",
       "  168.75177314939867\n",
       " 1930.9215268935975\n",
       " 1361.3575968398363\n",
       " 2154.538395678906\n",
       " 1007.4639865325659\n",
       " 3204.989349874637\n",
       " 1214.3748673815944\n",
       "  644.2287843366399\n",
       " 2063.8404464831674\n",
       " 1717.8243411839537\n",
       "   87.13502643042696\n",
       "  373.897006877387"
      ]
     },
     "execution_count": 18,
     "metadata": {},
     "output_type": "execute_result"
    }
   ],
   "source": [
    "ξ̂ = N .^ α̂"
   ]
  },
  {
   "cell_type": "code",
   "execution_count": 19,
   "id": "90443a54-2a5b-411c-ae6c-c69074ef80f8",
   "metadata": {},
   "outputs": [
    {
     "name": "stdout",
     "output_type": "stream",
     "text": [
      "[sum(M), sum(N .^ α), sum(ξ̂)] = [142748.0, 143005.91386696955, 121513.55216610814]\n"
     ]
    },
    {
     "data": {
      "text/plain": [
       "3-element Vector{Float64}:\n",
       " 142748.0\n",
       " 143005.91386696955\n",
       " 121513.55216610814"
      ]
     },
     "execution_count": 19,
     "metadata": {},
     "output_type": "execute_result"
    }
   ],
   "source": [
    "@show [sum(M), sum(N .^ α), sum(ξ̂)]"
   ]
  },
  {
   "cell_type": "code",
   "execution_count": 25,
   "id": "3f96039e-4a27-4ac6-b4d8-763ef6d0ee25",
   "metadata": {},
   "outputs": [
    {
     "data": {
      "text/plain": [
       "StatsModels.TableRegressionModel{GeneralizedLinearModel{GLM.GlmResp{Vector{Float64}, Poisson{Float64}, LogLink}, GLM.DensePredChol{Float64, LinearAlgebra.CholeskyPivoted{Float64, Matrix{Float64}, Vector{Int64}}}}, Matrix{Float64}}\n",
       "\n",
       "y ~ 0 + x1 + x2\n",
       "\n",
       "Coefficients:\n",
       "─────────────────────────────────────────────────────────────────\n",
       "       Coef.  Std. Error        z  Pr(>|z|)  Lower 95%  Upper 95%\n",
       "─────────────────────────────────────────────────────────────────\n",
       "x1  1.7594    0.00173394  1014.68    <1e-99   1.756      1.7628\n",
       "x2  0.917097  0.00840236   109.15    <1e-99   0.900629   0.933565\n",
       "─────────────────────────────────────────────────────────────────"
      ]
     },
     "execution_count": 25,
     "metadata": {},
     "output_type": "execute_result"
    }
   ],
   "source": [
    "df1 = DataFrame(\n",
    "    y = m,\n",
    "    x1 = log.(N),\n",
    "    x2 = log.(n ./ N)\n",
    ")\n",
    "\n",
    "mm = glm(@formula(y ~ x1 + x2 + 0), df1, Poisson(), LogLink())"
   ]
  },
  {
   "cell_type": "code",
   "execution_count": 26,
   "id": "fc53ecf8-bc60-4475-b4b7-9e5b01a2093d",
   "metadata": {},
   "outputs": [
    {
     "data": {
      "text/plain": [
       "2-element Vector{Float64}:\n",
       " 1.7594016949068927\n",
       " 0.9170969443667242"
      ]
     },
     "execution_count": 26,
     "metadata": {},
     "output_type": "execute_result"
    }
   ],
   "source": [
    "α̂₁, β̂₁ = coef(mm)"
   ]
  },
  {
   "cell_type": "code",
   "execution_count": 27,
   "id": "f4abcceb-7092-46a4-b72a-05ddd40ef977",
   "metadata": {},
   "outputs": [
    {
     "name": "stdout",
     "output_type": "stream",
     "text": [
      "[sum(M), sum(N .^ α), sum(ξ̂), sum(N .^ α̂₁)] = [142748.0, 143005.91386696955, 121513.55216610814, 130999.42352029332]\n"
     ]
    },
    {
     "data": {
      "text/plain": [
       "4-element Vector{Float64}:\n",
       " 142748.0\n",
       " 143005.91386696955\n",
       " 121513.55216610814\n",
       " 130999.42352029332"
      ]
     },
     "execution_count": 27,
     "metadata": {},
     "output_type": "execute_result"
    }
   ],
   "source": [
    "@show [sum(M), sum(N .^ α), sum(ξ̂), sum(N .^ α̂₁)]"
   ]
  },
  {
   "cell_type": "code",
   "execution_count": 68,
   "id": "63a94a4f-ee30-4155-8e20-78a385c194d1",
   "metadata": {},
   "outputs": [],
   "source": [
    "α = 1.78\n",
    "β = 1\n",
    "Q = 100 # Liczba państw\n",
    "\n",
    "res = DataFrame(\n",
    "    actual     = [],\n",
    "    expected   = [],\n",
    "    glm_est    = [],\n",
    "    ols_est    = []\n",
    ")\n",
    "\n",
    "for k in 1:1000\n",
    "    N = reduce(vcat, rand.(Binomial.(rand(DiscreteUniform(2000, 4000), Q), .1), 1))\n",
    "    M = reduce(vcat, rand.(Poisson.(N .^ α), 1))\n",
    "    p = rand(Uniform(.1,.75), Q)\n",
    "    \n",
    "    m = reduce(vcat, rand.(Poisson.(M .* p), 1))\n",
    "    n = reduce(vcat, rand.(Binomial.(N, p), 1))\n",
    "\n",
    "    df1 = DataFrame(\n",
    "        y = m,\n",
    "        x1 = log.(N),\n",
    "        x2 = log.(n ./ N)\n",
    "    )\n",
    "\n",
    "    mm = glm(@formula(y ~ x1 + x2 + 0), df1, Poisson(), LogLink())\n",
    "    α̂₁, β̂₁ = coef(mm)\n",
    "\n",
    "    ols = lm(@formula(log(y) ~ x1 + x2 + 0), df1)\n",
    "    α̂₂, β̂₂ = coef(ols)\n",
    "    \n",
    "    push!(res, [sum(M) sum(N .^ α) sum(N .^ α̂₁) sum(N .^ α̂₂)])\n",
    "end # end for"
   ]
  },
  {
   "cell_type": "code",
   "execution_count": 69,
   "id": "5e2c1bb9-59d0-49a5-9205-84a742f21174",
   "metadata": {},
   "outputs": [
    {
     "data": {
      "text/html": [
       "<div><div style = \"float: left;\"><span>3×4 DataFrame</span></div><div style = \"clear: both;\"></div></div><div class = \"data-frame\" style = \"overflow-x: scroll;\"><table class = \"data-frame\" style = \"margin-bottom: 6px;\"><thead><tr class = \"header\"><th class = \"rowNumber\" style = \"font-weight: bold; text-align: right;\">Row</th><th style = \"text-align: left;\">rel_bias</th><th style = \"text-align: left;\">rel_mse</th><th style = \"text-align: left;\">rel_mae</th><th style = \"text-align: left;\">est</th></tr><tr class = \"subheader headerLastRow\"><th class = \"rowNumber\" style = \"font-weight: bold; text-align: right;\"></th><th title = \"Float64\" style = \"text-align: left;\">Float64</th><th title = \"Float64\" style = \"text-align: left;\">Float64</th><th title = \"Float64\" style = \"text-align: left;\">Float64</th><th title = \"String\" style = \"text-align: left;\">String</th></tr></thead><tbody><tr><td class = \"rowNumber\" style = \"font-weight: bold; text-align: right;\">1</td><td style = \"text-align: right;\">-2.8776e-6</td><td style = \"text-align: right;\">0.959902</td><td style = \"text-align: right;\">0.000486483</td><td style = \"text-align: left;\">Expected value</td></tr><tr><td class = \"rowNumber\" style = \"font-weight: bold; text-align: right;\">2</td><td style = \"text-align: right;\">0.0169904</td><td style = \"text-align: right;\">1195.85</td><td style = \"text-align: right;\">0.0181339</td><td style = \"text-align: left;\">glm</td></tr><tr><td class = \"rowNumber\" style = \"font-weight: bold; text-align: right;\">3</td><td style = \"text-align: right;\">0.0254045</td><td style = \"text-align: right;\">2571.12</td><td style = \"text-align: right;\">0.02672</td><td style = \"text-align: left;\">ols</td></tr></tbody></table></div>"
      ],
      "text/latex": [
       "\\begin{tabular}{r|cccc}\n",
       "\t& rel\\_bias & rel\\_mse & rel\\_mae & est\\\\\n",
       "\t\\hline\n",
       "\t& Float64 & Float64 & Float64 & String\\\\\n",
       "\t\\hline\n",
       "\t1 & -2.8776e-6 & 0.959902 & 0.000486483 & Expected value \\\\\n",
       "\t2 & 0.0169904 & 1195.85 & 0.0181339 & glm \\\\\n",
       "\t3 & 0.0254045 & 2571.12 & 0.02672 & ols \\\\\n",
       "\\end{tabular}\n"
      ],
      "text/plain": [
       "\u001b[1m3×4 DataFrame\u001b[0m\n",
       "\u001b[1m Row \u001b[0m│\u001b[1m rel_bias   \u001b[0m\u001b[1m rel_mse     \u001b[0m\u001b[1m rel_mae     \u001b[0m\u001b[1m est            \u001b[0m\n",
       "     │\u001b[90m Float64    \u001b[0m\u001b[90m Float64     \u001b[0m\u001b[90m Float64     \u001b[0m\u001b[90m String         \u001b[0m\n",
       "─────┼──────────────────────────────────────────────────────\n",
       "   1 │ -2.8776e-6     0.959902  0.000486483  Expected value\n",
       "   2 │  0.0169904  1195.85      0.0181339    glm\n",
       "   3 │  0.0254045  2571.12      0.02672      ols"
      ]
     },
     "execution_count": 69,
     "metadata": {},
     "output_type": "execute_result"
    }
   ],
   "source": [
    "DataFrame(\n",
    "    rel_bias = [mean((res[:, 1] .- res[:, 2]) ./ res[:, 1]), mean((res[:, 1] .- res[:, 3]) ./ res[:, 1]), mean((res[:, 1] .- res[:, 4]) ./ res[:, 1])],\n",
    "    rel_mse  = [mean(((res[:, 1] .- res[:, 2]) .^ 2) ./ res[:, 1]), mean(((res[:, 1] .- res[:, 3]) .^ 2) ./ res[:, 1]), mean(((res[:, 1] .- res[:, 4]) .^ 2) ./ res[:, 1])],\n",
    "    rel_mae  = [mean(abs.(res[:, 1] .- res[:, 2]) ./ res[:, 1]), mean(abs.(res[:, 1] .- res[:, 3]) ./ res[:, 1]), mean(abs.(res[:, 1] .- res[:, 4]) ./ res[:, 1])],\n",
    "    est  = [\"Expected value\",\"glm\",\"ols\"]\n",
    ")"
   ]
  },
  {
   "cell_type": "code",
   "execution_count": 70,
   "id": "57363dc2-4ae5-43aa-abe4-a7de0f527eea",
   "metadata": {},
   "outputs": [
    {
     "data": {
      "text/html": [
       "<div><div style = \"float: left;\"><span>2×4 DataFrame</span></div><div style = \"clear: both;\"></div></div><div class = \"data-frame\" style = \"overflow-x: scroll;\"><table class = \"data-frame\" style = \"margin-bottom: 6px;\"><thead><tr class = \"header\"><th class = \"rowNumber\" style = \"font-weight: bold; text-align: right;\">Row</th><th style = \"text-align: left;\">rel_bias</th><th style = \"text-align: left;\">rel_mse</th><th style = \"text-align: left;\">rel_mae</th><th style = \"text-align: left;\">est</th></tr><tr class = \"subheader headerLastRow\"><th class = \"rowNumber\" style = \"font-weight: bold; text-align: right;\"></th><th title = \"Float64\" style = \"text-align: left;\">Float64</th><th title = \"Float64\" style = \"text-align: left;\">Float64</th><th title = \"Float64\" style = \"text-align: left;\">Float64</th><th title = \"String\" style = \"text-align: left;\">String</th></tr></thead><tbody><tr><td class = \"rowNumber\" style = \"font-weight: bold; text-align: right;\">1</td><td style = \"text-align: right;\">0.0169925</td><td style = \"text-align: right;\">1198.69</td><td style = \"text-align: right;\">0.0181585</td><td style = \"text-align: left;\">glm</td></tr><tr><td class = \"rowNumber\" style = \"font-weight: bold; text-align: right;\">2</td><td style = \"text-align: right;\">0.0254065</td><td style = \"text-align: right;\">2573.95</td><td style = \"text-align: right;\">0.0267186</td><td style = \"text-align: left;\">ols</td></tr></tbody></table></div>"
      ],
      "text/latex": [
       "\\begin{tabular}{r|cccc}\n",
       "\t& rel\\_bias & rel\\_mse & rel\\_mae & est\\\\\n",
       "\t\\hline\n",
       "\t& Float64 & Float64 & Float64 & String\\\\\n",
       "\t\\hline\n",
       "\t1 & 0.0169925 & 1198.69 & 0.0181585 & glm \\\\\n",
       "\t2 & 0.0254065 & 2573.95 & 0.0267186 & ols \\\\\n",
       "\\end{tabular}\n"
      ],
      "text/plain": [
       "\u001b[1m2×4 DataFrame\u001b[0m\n",
       "\u001b[1m Row \u001b[0m│\u001b[1m rel_bias  \u001b[0m\u001b[1m rel_mse \u001b[0m\u001b[1m rel_mae   \u001b[0m\u001b[1m est    \u001b[0m\n",
       "     │\u001b[90m Float64   \u001b[0m\u001b[90m Float64 \u001b[0m\u001b[90m Float64   \u001b[0m\u001b[90m String \u001b[0m\n",
       "─────┼───────────────────────────────────────\n",
       "   1 │ 0.0169925  1198.69  0.0181585  glm\n",
       "   2 │ 0.0254065  2573.95  0.0267186  ols"
      ]
     },
     "execution_count": 70,
     "metadata": {},
     "output_type": "execute_result"
    }
   ],
   "source": [
    "DataFrame(\n",
    "    rel_bias = [mean((res[:, 2] .- res[:, 3]) ./ res[:, 2]), mean((res[:, 2] .- res[:, 4]) ./ res[:, 2])],\n",
    "    rel_mse  = [mean(((res[:, 2] .- res[:, 3]) .^ 2) ./ res[:, 2]), mean(((res[:, 2] .- res[:, 4]) .^ 2) ./ res[:, 2])],\n",
    "    rel_mae  = [mean(abs.(res[:, 2] .- res[:, 3]) ./ res[:, 2]), mean(abs.(res[:, 2] .- res[:, 4]) ./ res[:, 2])],\n",
    "    est  = [\"glm\",\"ols\"]\n",
    ")"
   ]
  },
  {
   "cell_type": "code",
   "execution_count": 79,
   "id": "02404d63-f7a7-48b6-8ace-cbe7a3f22671",
   "metadata": {},
   "outputs": [
    {
     "data": {
      "text/html": [
       "<div><div style = \"float: left;\"><span>3×4 DataFrame</span></div><div style = \"clear: both;\"></div></div><div class = \"data-frame\" style = \"overflow-x: scroll;\"><table class = \"data-frame\" style = \"margin-bottom: 6px;\"><thead><tr class = \"header\"><th class = \"rowNumber\" style = \"font-weight: bold; text-align: right;\">Row</th><th style = \"text-align: left;\">rel_bias</th><th style = \"text-align: left;\">rel_mse</th><th style = \"text-align: left;\">rel_mae</th><th style = \"text-align: left;\">est</th></tr><tr class = \"subheader headerLastRow\"><th class = \"rowNumber\" style = \"font-weight: bold; text-align: right;\"></th><th title = \"Float64\" style = \"text-align: left;\">Float64</th><th title = \"Float64\" style = \"text-align: left;\">Float64</th><th title = \"Float64\" style = \"text-align: left;\">Float64</th><th title = \"String\" style = \"text-align: left;\">String</th></tr></thead><tbody><tr><td class = \"rowNumber\" style = \"font-weight: bold; text-align: right;\">1</td><td style = \"text-align: right;\">1.04519e-5</td><td style = \"text-align: right;\">1.01476</td><td style = \"text-align: right;\">0.000995295</td><td style = \"text-align: left;\">Expected value</td></tr><tr><td class = \"rowNumber\" style = \"font-weight: bold; text-align: right;\">2</td><td style = \"text-align: right;\">0.0537108</td><td style = \"text-align: right;\">3619.82</td><td style = \"text-align: right;\">0.0613237</td><td style = \"text-align: left;\">glm</td></tr><tr><td class = \"rowNumber\" style = \"font-weight: bold; text-align: right;\">3</td><td style = \"text-align: right;\">0.0741454</td><td style = \"text-align: right;\">6649.09</td><td style = \"text-align: right;\">0.0832668</td><td style = \"text-align: left;\">ols</td></tr></tbody></table></div>"
      ],
      "text/latex": [
       "\\begin{tabular}{r|cccc}\n",
       "\t& rel\\_bias & rel\\_mse & rel\\_mae & est\\\\\n",
       "\t\\hline\n",
       "\t& Float64 & Float64 & Float64 & String\\\\\n",
       "\t\\hline\n",
       "\t1 & 1.04519e-5 & 1.01476 & 0.000995295 & Expected value \\\\\n",
       "\t2 & 0.0537108 & 3619.82 & 0.0613237 & glm \\\\\n",
       "\t3 & 0.0741454 & 6649.09 & 0.0832668 & ols \\\\\n",
       "\\end{tabular}\n"
      ],
      "text/plain": [
       "\u001b[1m3×4 DataFrame\u001b[0m\n",
       "\u001b[1m Row \u001b[0m│\u001b[1m rel_bias   \u001b[0m\u001b[1m rel_mse    \u001b[0m\u001b[1m rel_mae     \u001b[0m\u001b[1m est            \u001b[0m\n",
       "     │\u001b[90m Float64    \u001b[0m\u001b[90m Float64    \u001b[0m\u001b[90m Float64     \u001b[0m\u001b[90m String         \u001b[0m\n",
       "─────┼─────────────────────────────────────────────────────\n",
       "   1 │ 1.04519e-5     1.01476  0.000995295  Expected value\n",
       "   2 │ 0.0537108   3619.82     0.0613237    glm\n",
       "   3 │ 0.0741454   6649.09     0.0832668    ols"
      ]
     },
     "execution_count": 79,
     "metadata": {},
     "output_type": "execute_result"
    }
   ],
   "source": [
    "α = 2.3\n",
    "β = 1.2\n",
    "Q = 20 # Liczba państw\n",
    "\n",
    "res = DataFrame(\n",
    "    actual     = [],\n",
    "    expected   = [],\n",
    "    glm_est    = [],\n",
    "    ols_est    = []\n",
    ")\n",
    "\n",
    "for k in 1:1000\n",
    "    N = reduce(vcat, rand.(Binomial.(rand(DiscreteUniform(200, 400), Q), .3), 1))\n",
    "    M = reduce(vcat, rand.(Poisson.(N .^ α), 1))\n",
    "    p = rand(Uniform(.1,.75), Q)\n",
    "    \n",
    "    m = reduce(vcat, rand.(Poisson.(M .* p), 1))\n",
    "    n = reduce(vcat, rand.(Binomial.(N, p), 1))\n",
    "\n",
    "    df1 = DataFrame(\n",
    "        y = m,\n",
    "        x1 = log.(N),\n",
    "        x2 = log.(n ./ N)\n",
    "    )\n",
    "\n",
    "    mm = glm(@formula(y ~ x1 + x2 + 0), df1, Poisson(), LogLink())\n",
    "    α̂₁, β̂₁ = coef(mm)\n",
    "\n",
    "    ols = lm(@formula(log(y) ~ x1 + x2 + 0), df1)\n",
    "    α̂₂, β̂₂ = coef(ols)\n",
    "    \n",
    "    push!(res, [sum(M) sum(N .^ α) sum(N .^ α̂₁) sum(N .^ α̂₂)])\n",
    "end # end for\n",
    "\n",
    "DataFrame(\n",
    "    rel_bias = [mean((res[:, 1] .- res[:, 2]) ./ res[:, 1]), mean((res[:, 1] .- res[:, 3]) ./ res[:, 1]), mean((res[:, 1] .- res[:, 4]) ./ res[:, 1])],\n",
    "    rel_mse  = [mean(((res[:, 1] .- res[:, 2]) .^ 2) ./ res[:, 1]), mean(((res[:, 1] .- res[:, 3]) .^ 2) ./ res[:, 1]), mean(((res[:, 1] .- res[:, 4]) .^ 2) ./ res[:, 1])],\n",
    "    rel_mae  = [mean(abs.(res[:, 1] .- res[:, 2]) ./ res[:, 1]), mean(abs.(res[:, 1] .- res[:, 3]) ./ res[:, 1]), mean(abs.(res[:, 1] .- res[:, 4]) ./ res[:, 1])],\n",
    "    est      = [\"Expected value\",\"glm\",\"ols\"]\n",
    ")"
   ]
  },
  {
   "cell_type": "code",
   "execution_count": 80,
   "id": "51e8c9c2-c198-4ec0-9397-84dc21bd8d94",
   "metadata": {},
   "outputs": [
    {
     "data": {
      "text/html": [
       "<div><div style = \"float: left;\"><span>2×4 DataFrame</span></div><div style = \"clear: both;\"></div></div><div class = \"data-frame\" style = \"overflow-x: scroll;\"><table class = \"data-frame\" style = \"margin-bottom: 6px;\"><thead><tr class = \"header\"><th class = \"rowNumber\" style = \"font-weight: bold; text-align: right;\">Row</th><th style = \"text-align: left;\">rel_bias</th><th style = \"text-align: left;\">rel_mse</th><th style = \"text-align: left;\">rel_mae</th><th style = \"text-align: left;\">est</th></tr><tr class = \"subheader headerLastRow\"><th class = \"rowNumber\" style = \"font-weight: bold; text-align: right;\"></th><th title = \"Float64\" style = \"text-align: left;\">Float64</th><th title = \"Float64\" style = \"text-align: left;\">Float64</th><th title = \"Float64\" style = \"text-align: left;\">Float64</th><th title = \"String\" style = \"text-align: left;\">String</th></tr></thead><tbody><tr><td class = \"rowNumber\" style = \"font-weight: bold; text-align: right;\">1</td><td style = \"text-align: right;\">0.0536983</td><td style = \"text-align: right;\">3621.07</td><td style = \"text-align: right;\">0.0613375</td><td style = \"text-align: left;\">glm</td></tr><tr><td class = \"rowNumber\" style = \"font-weight: bold; text-align: right;\">2</td><td style = \"text-align: right;\">0.074132</td><td style = \"text-align: right;\">6651.15</td><td style = \"text-align: right;\">0.0832724</td><td style = \"text-align: left;\">ols</td></tr></tbody></table></div>"
      ],
      "text/latex": [
       "\\begin{tabular}{r|cccc}\n",
       "\t& rel\\_bias & rel\\_mse & rel\\_mae & est\\\\\n",
       "\t\\hline\n",
       "\t& Float64 & Float64 & Float64 & String\\\\\n",
       "\t\\hline\n",
       "\t1 & 0.0536983 & 3621.07 & 0.0613375 & glm \\\\\n",
       "\t2 & 0.074132 & 6651.15 & 0.0832724 & ols \\\\\n",
       "\\end{tabular}\n"
      ],
      "text/plain": [
       "\u001b[1m2×4 DataFrame\u001b[0m\n",
       "\u001b[1m Row \u001b[0m│\u001b[1m rel_bias  \u001b[0m\u001b[1m rel_mse \u001b[0m\u001b[1m rel_mae   \u001b[0m\u001b[1m est    \u001b[0m\n",
       "     │\u001b[90m Float64   \u001b[0m\u001b[90m Float64 \u001b[0m\u001b[90m Float64   \u001b[0m\u001b[90m String \u001b[0m\n",
       "─────┼───────────────────────────────────────\n",
       "   1 │ 0.0536983  3621.07  0.0613375  glm\n",
       "   2 │ 0.074132   6651.15  0.0832724  ols"
      ]
     },
     "execution_count": 80,
     "metadata": {},
     "output_type": "execute_result"
    }
   ],
   "source": [
    "DataFrame(\n",
    "    rel_bias = [mean((res[:, 2] .- res[:, 3]) ./ res[:, 2]), mean((res[:, 2] .- res[:, 4]) ./ res[:, 2])],\n",
    "    rel_mse  = [mean(((res[:, 2] .- res[:, 3]) .^ 2) ./ res[:, 2]), mean(((res[:, 2] .- res[:, 4]) .^ 2) ./ res[:, 2])],\n",
    "    rel_mae  = [mean(abs.(res[:, 2] .- res[:, 3]) ./ res[:, 2]), mean(abs.(res[:, 2] .- res[:, 4]) ./ res[:, 2])],\n",
    "    est      = [\"glm\",\"ols\"]\n",
    ")"
   ]
  },
  {
   "cell_type": "code",
   "execution_count": null,
   "id": "a4feea78-908d-45f5-aea2-67eb3fb93ac3",
   "metadata": {},
   "outputs": [],
   "source": []
  }
 ],
 "metadata": {
  "kernelspec": {
   "display_name": "Julia 1.8.3",
   "language": "julia",
   "name": "julia-1.8"
  },
  "language_info": {
   "file_extension": ".jl",
   "mimetype": "application/julia",
   "name": "julia",
   "version": "1.8.3"
  }
 },
 "nbformat": 4,
 "nbformat_minor": 5
}
