{
 "cells": [
  {
   "cell_type": "code",
   "execution_count": 1,
   "id": "198fcb5a-c533-4f33-b3eb-0c1164188010",
   "metadata": {},
   "outputs": [],
   "source": [
    "using Random, Distributions, DataFrames, GLM, Statistics"
   ]
  },
  {
   "cell_type": "code",
   "execution_count": 2,
   "id": "2b5383b8-30a4-4920-a2e8-a9ee93def760",
   "metadata": {},
   "outputs": [
    {
     "data": {
      "text/plain": [
       "100"
      ]
     },
     "execution_count": 2,
     "metadata": {},
     "output_type": "execute_result"
    }
   ],
   "source": [
    "α = 1.78\n",
    "β = 1\n",
    "Q = 100 # Liczba państw"
   ]
  },
  {
   "cell_type": "code",
   "execution_count": 3,
   "id": "d4da5c59-0cae-45ca-a597-f4f4b74cd6a6",
   "metadata": {},
   "outputs": [
    {
     "data": {
      "text/plain": [
       "100-element Vector{Int64}:\n",
       " 19\n",
       "  7\n",
       " 48\n",
       " 11\n",
       " 16\n",
       " 11\n",
       " 44\n",
       " 33\n",
       " 31\n",
       " 23\n",
       " 64\n",
       " 11\n",
       " 62\n",
       "  ⋮\n",
       "  8\n",
       " 48\n",
       " 19\n",
       " 79\n",
       " 16\n",
       "  9\n",
       " 37\n",
       " 31\n",
       " 22\n",
       "  8\n",
       " 31\n",
       " 12"
      ]
     },
     "execution_count": 3,
     "metadata": {},
     "output_type": "execute_result"
    }
   ],
   "source": [
    "p = rand(Uniform(.1,.75), Q)\n",
    "\n",
    "N = reduce(vcat, rand.(Binomial.(rand(DiscreteUniform(100, 1000), Q), .1), 1))\n",
    "M = reduce(vcat, rand.(Poisson.(N .^ α), 1))\n",
    "\n",
    "m = reduce(vcat, rand.(Poisson.(M .* p), 1))\n",
    "n = reduce(vcat, rand.(Binomial.(N, p), 1))"
   ]
  },
  {
   "cell_type": "code",
   "execution_count": 4,
   "id": "ac73f046-71a5-4ca8-9ba9-29eeaeaa444b",
   "metadata": {},
   "outputs": [
    {
     "data": {
      "text/html": [
       "<div><div style = \"float: left;\"><span>100×3 DataFrame</span></div><div style = \"float: right;\"><span style = \"font-style: italic;\">75 rows omitted</span></div><div style = \"clear: both;\"></div></div><div class = \"data-frame\" style = \"overflow-x: scroll;\"><table class = \"data-frame\" style = \"margin-bottom: 6px;\"><thead><tr class = \"header\"><th class = \"rowNumber\" style = \"font-weight: bold; text-align: right;\">Row</th><th style = \"text-align: left;\">y</th><th style = \"text-align: left;\">x1</th><th style = \"text-align: left;\">x2</th></tr><tr class = \"subheader headerLastRow\"><th class = \"rowNumber\" style = \"font-weight: bold; text-align: right;\"></th><th title = \"Float64\" style = \"text-align: left;\">Float64</th><th title = \"Float64\" style = \"text-align: left;\">Float64</th><th title = \"Float64\" style = \"text-align: left;\">Float64</th></tr></thead><tbody><tr><td class = \"rowNumber\" style = \"font-weight: bold; text-align: right;\">1</td><td style = \"text-align: right;\">2.11678</td><td style = \"text-align: right;\">3.13549</td><td style = \"text-align: right;\">-0.191055</td></tr><tr><td class = \"rowNumber\" style = \"font-weight: bold; text-align: right;\">2</td><td style = \"text-align: right;\">1.32687</td><td style = \"text-align: right;\">2.56495</td><td style = \"text-align: right;\">-0.619039</td></tr><tr><td class = \"rowNumber\" style = \"font-weight: bold; text-align: right;\">3</td><td style = \"text-align: right;\">2.79865</td><td style = \"text-align: right;\">4.26268</td><td style = \"text-align: right;\">-0.391479</td></tr><tr><td class = \"rowNumber\" style = \"font-weight: bold; text-align: right;\">4</td><td style = \"text-align: right;\">1.44465</td><td style = \"text-align: right;\">4.64439</td><td style = \"text-align: right;\">-2.2465</td></tr><tr><td class = \"rowNumber\" style = \"font-weight: bold; text-align: right;\">5</td><td style = \"text-align: right;\">1.61498</td><td style = \"text-align: right;\">3.58352</td><td style = \"text-align: right;\">-0.81093</td></tr><tr><td class = \"rowNumber\" style = \"font-weight: bold; text-align: right;\">6</td><td style = \"text-align: right;\">1.72722</td><td style = \"text-align: right;\">3.17805</td><td style = \"text-align: right;\">-0.780159</td></tr><tr><td class = \"rowNumber\" style = \"font-weight: bold; text-align: right;\">7</td><td style = \"text-align: right;\">2.76272</td><td style = \"text-align: right;\">4.2485</td><td style = \"text-align: right;\">-0.464306</td></tr><tr><td class = \"rowNumber\" style = \"font-weight: bold; text-align: right;\">8</td><td style = \"text-align: right;\">2.42203</td><td style = \"text-align: right;\">4.20469</td><td style = \"text-align: right;\">-0.708185</td></tr><tr><td class = \"rowNumber\" style = \"font-weight: bold; text-align: right;\">9</td><td style = \"text-align: right;\">2.66259</td><td style = \"text-align: right;\">4.56435</td><td style = \"text-align: right;\">-1.13036</td></tr><tr><td class = \"rowNumber\" style = \"font-weight: bold; text-align: right;\">10</td><td style = \"text-align: right;\">2.55852</td><td style = \"text-align: right;\">3.8712</td><td style = \"text-align: right;\">-0.735707</td></tr><tr><td class = \"rowNumber\" style = \"font-weight: bold; text-align: right;\">11</td><td style = \"text-align: right;\">3.0795</td><td style = \"text-align: right;\">4.59512</td><td style = \"text-align: right;\">-0.436237</td></tr><tr><td class = \"rowNumber\" style = \"font-weight: bold; text-align: right;\">12</td><td style = \"text-align: right;\">1.71849</td><td style = \"text-align: right;\">4.52179</td><td style = \"text-align: right;\">-2.12389</td></tr><tr><td class = \"rowNumber\" style = \"font-weight: bold; text-align: right;\">13</td><td style = \"text-align: right;\">3.08618</td><td style = \"text-align: right;\">4.31749</td><td style = \"text-align: right;\">-0.190354</td></tr><tr><td style = \"text-align: right;\">&vellip;</td><td style = \"text-align: right;\">&vellip;</td><td style = \"text-align: right;\">&vellip;</td><td style = \"text-align: right;\">&vellip;</td></tr><tr><td class = \"rowNumber\" style = \"font-weight: bold; text-align: right;\">89</td><td style = \"text-align: right;\">1.75127</td><td style = \"text-align: right;\">3.73767</td><td style = \"text-align: right;\">-1.65823</td></tr><tr><td class = \"rowNumber\" style = \"font-weight: bold; text-align: right;\">90</td><td style = \"text-align: right;\">3.02404</td><td style = \"text-align: right;\">4.61512</td><td style = \"text-align: right;\">-0.74392</td></tr><tr><td class = \"rowNumber\" style = \"font-weight: bold; text-align: right;\">91</td><td style = \"text-align: right;\">2.14262</td><td style = \"text-align: right;\">3.13549</td><td style = \"text-align: right;\">-0.191055</td></tr><tr><td class = \"rowNumber\" style = \"font-weight: bold; text-align: right;\">92</td><td style = \"text-align: right;\">3.31279</td><td style = \"text-align: right;\">4.64439</td><td style = \"text-align: right;\">-0.274943</td></tr><tr><td class = \"rowNumber\" style = \"font-weight: bold; text-align: right;\">93</td><td style = \"text-align: right;\">1.73573</td><td style = \"text-align: right;\">3.95124</td><td style = \"text-align: right;\">-1.17865</td></tr><tr><td class = \"rowNumber\" style = \"font-weight: bold; text-align: right;\">94</td><td style = \"text-align: right;\">0.946144</td><td style = \"text-align: right;\">3.49651</td><td style = \"text-align: right;\">-1.29928</td></tr><tr><td class = \"rowNumber\" style = \"font-weight: bold; text-align: right;\">95</td><td style = \"text-align: right;\">2.64958</td><td style = \"text-align: right;\">3.98898</td><td style = \"text-align: right;\">-0.378066</td></tr><tr><td class = \"rowNumber\" style = \"font-weight: bold; text-align: right;\">96</td><td style = \"text-align: right;\">2.44538</td><td style = \"text-align: right;\">3.7612</td><td style = \"text-align: right;\">-0.327213</td></tr><tr><td class = \"rowNumber\" style = \"font-weight: bold; text-align: right;\">97</td><td style = \"text-align: right;\">2.35742</td><td style = \"text-align: right;\">4.00733</td><td style = \"text-align: right;\">-0.916291</td></tr><tr><td class = \"rowNumber\" style = \"font-weight: bold; text-align: right;\">98</td><td style = \"text-align: right;\">1.5217</td><td style = \"text-align: right;\">3.91202</td><td style = \"text-align: right;\">-1.83258</td></tr><tr><td class = \"rowNumber\" style = \"font-weight: bold; text-align: right;\">99</td><td style = \"text-align: right;\">2.59857</td><td style = \"text-align: right;\">3.80666</td><td style = \"text-align: right;\">-0.372675</td></tr><tr><td class = \"rowNumber\" style = \"font-weight: bold; text-align: right;\">100</td><td style = \"text-align: right;\">1.38629</td><td style = \"text-align: right;\">4.46591</td><td style = \"text-align: right;\">-1.981</td></tr></tbody></table></div>"
      ],
      "text/latex": [
       "\\begin{tabular}{r|ccc}\n",
       "\t& y & x1 & x2\\\\\n",
       "\t\\hline\n",
       "\t& Float64 & Float64 & Float64\\\\\n",
       "\t\\hline\n",
       "\t1 & 2.11678 & 3.13549 & -0.191055 \\\\\n",
       "\t2 & 1.32687 & 2.56495 & -0.619039 \\\\\n",
       "\t3 & 2.79865 & 4.26268 & -0.391479 \\\\\n",
       "\t4 & 1.44465 & 4.64439 & -2.2465 \\\\\n",
       "\t5 & 1.61498 & 3.58352 & -0.81093 \\\\\n",
       "\t6 & 1.72722 & 3.17805 & -0.780159 \\\\\n",
       "\t7 & 2.76272 & 4.2485 & -0.464306 \\\\\n",
       "\t8 & 2.42203 & 4.20469 & -0.708185 \\\\\n",
       "\t9 & 2.66259 & 4.56435 & -1.13036 \\\\\n",
       "\t10 & 2.55852 & 3.8712 & -0.735707 \\\\\n",
       "\t11 & 3.0795 & 4.59512 & -0.436237 \\\\\n",
       "\t12 & 1.71849 & 4.52179 & -2.12389 \\\\\n",
       "\t13 & 3.08618 & 4.31749 & -0.190354 \\\\\n",
       "\t14 & 0.790521 & 3.78419 & -2.68558 \\\\\n",
       "\t15 & 1.75175 & 2.83321 & -0.435318 \\\\\n",
       "\t16 & 2.50075 & 4.78749 & -1.26113 \\\\\n",
       "\t17 & 2.1139 & 4.40672 & -1.18784 \\\\\n",
       "\t18 & 2.85617 & 4.33073 & -0.593064 \\\\\n",
       "\t19 & 3.01902 & 4.46591 & -0.355034 \\\\\n",
       "\t20 & 1.63413 & 4.38203 & -1.67398 \\\\\n",
       "\t21 & 2.60269 & 3.82864 & -0.461346 \\\\\n",
       "\t22 & 1.70979 & 3.58352 & -1.28093 \\\\\n",
       "\t23 & 2.20291 & 3.66356 & -0.367725 \\\\\n",
       "\t24 & 3.02071 & 4.44265 & -0.382208 \\\\\n",
       "\t25 & 0.305382 & 2.63906 & -1.94591 \\\\\n",
       "\t26 & 1.98264 & 3.73767 & -0.693147 \\\\\n",
       "\t27 & 3.11743 & 4.44265 & -0.3996 \\\\\n",
       "\t28 & 1.2931 & 4.07754 & -1.88031 \\\\\n",
       "\t29 & 2.70805 & 4.04305 & -0.459532 \\\\\n",
       "\t30 & 2.62628 & 3.80666 & -0.372675 \\\\\n",
       "\t$\\dots$ & $\\dots$ & $\\dots$ & $\\dots$ \\\\\n",
       "\\end{tabular}\n"
      ],
      "text/plain": [
       "\u001b[1m100×3 DataFrame\u001b[0m\n",
       "\u001b[1m Row \u001b[0m│\u001b[1m y        \u001b[0m\u001b[1m x1      \u001b[0m\u001b[1m x2        \u001b[0m\n",
       "     │\u001b[90m Float64  \u001b[0m\u001b[90m Float64 \u001b[0m\u001b[90m Float64   \u001b[0m\n",
       "─────┼──────────────────────────────\n",
       "   1 │ 2.11678   3.13549  -0.191055\n",
       "   2 │ 1.32687   2.56495  -0.619039\n",
       "   3 │ 2.79865   4.26268  -0.391479\n",
       "   4 │ 1.44465   4.64439  -2.2465\n",
       "   5 │ 1.61498   3.58352  -0.81093\n",
       "   6 │ 1.72722   3.17805  -0.780159\n",
       "   7 │ 2.76272   4.2485   -0.464306\n",
       "   8 │ 2.42203   4.20469  -0.708185\n",
       "   9 │ 2.66259   4.56435  -1.13036\n",
       "  10 │ 2.55852   3.8712   -0.735707\n",
       "  11 │ 3.0795    4.59512  -0.436237\n",
       "  ⋮  │    ⋮         ⋮         ⋮\n",
       "  91 │ 2.14262   3.13549  -0.191055\n",
       "  92 │ 3.31279   4.64439  -0.274943\n",
       "  93 │ 1.73573   3.95124  -1.17865\n",
       "  94 │ 0.946144  3.49651  -1.29928\n",
       "  95 │ 2.64958   3.98898  -0.378066\n",
       "  96 │ 2.44538   3.7612   -0.327213\n",
       "  97 │ 2.35742   4.00733  -0.916291\n",
       "  98 │ 1.5217    3.91202  -1.83258\n",
       "  99 │ 2.59857   3.80666  -0.372675\n",
       " 100 │ 1.38629   4.46591  -1.981\n",
       "\u001b[36m                     79 rows omitted\u001b[0m"
      ]
     },
     "execution_count": 4,
     "metadata": {},
     "output_type": "execute_result"
    }
   ],
   "source": [
    "df = DataFrame(\n",
    "    y = log.(m ./ N),\n",
    "    x1 = log.(N),\n",
    "    x2 = log.(n ./ N)\n",
    ")"
   ]
  },
  {
   "cell_type": "code",
   "execution_count": 5,
   "id": "1f9c4947-c412-4a40-b234-ab2b1585fe60",
   "metadata": {},
   "outputs": [
    {
     "data": {
      "text/plain": [
       "StatsModels.TableRegressionModel{LinearModel{GLM.LmResp{Vector{Float64}}, GLM.DensePredChol{Float64, LinearAlgebra.CholeskyPivoted{Float64, Matrix{Float64}, Vector{Int64}}}}, Matrix{Float64}}\n",
       "\n",
       "y ~ 0 + x1 + x2\n",
       "\n",
       "Coefficients:\n",
       "────────────────────────────────────────────────────────────────\n",
       "       Coef.  Std. Error       t  Pr(>|t|)  Lower 95%  Upper 95%\n",
       "────────────────────────────────────────────────────────────────\n",
       "x1  1.74638   0.00954512  182.96    <1e-99   1.72744    1.76532\n",
       "x2  0.840012  0.0333134    25.22    <1e-43   0.773903   0.906121\n",
       "────────────────────────────────────────────────────────────────"
      ]
     },
     "execution_count": 5,
     "metadata": {},
     "output_type": "execute_result"
    }
   ],
   "source": [
    "df1 = DataFrame(\n",
    "    y = log.(m),\n",
    "    x1 = log.(N),\n",
    "    x2 = log.(n ./ N)\n",
    ")\n",
    "lm(@formula(y ~ x1 + x2 + 0), df1)"
   ]
  },
  {
   "cell_type": "code",
   "execution_count": 6,
   "id": "371f47ca-3697-41ce-a8af-d4200689fe78",
   "metadata": {},
   "outputs": [
    {
     "data": {
      "text/plain": [
       "StatsModels.TableRegressionModel{LinearModel{GLM.LmResp{Vector{Float64}}, GLM.DensePredChol{Float64, LinearAlgebra.CholeskyPivoted{Float64, Matrix{Float64}, Vector{Int64}}}}, Matrix{Float64}}\n",
       "\n",
       "y ~ 0 + x1 + x2\n",
       "\n",
       "Coefficients:\n",
       "───────────────────────────────────────────────────────────────\n",
       "       Coef.  Std. Error      t  Pr(>|t|)  Lower 95%  Upper 95%\n",
       "───────────────────────────────────────────────────────────────\n",
       "x1  0.746382  0.00954512  78.20    <1e-89   0.72744    0.765324\n",
       "x2  0.840012  0.0333134   25.22    <1e-43   0.773903   0.906121\n",
       "───────────────────────────────────────────────────────────────"
      ]
     },
     "execution_count": 6,
     "metadata": {},
     "output_type": "execute_result"
    }
   ],
   "source": [
    "ols = lm(@formula(y ~ x1 + x2 + 0), df)"
   ]
  },
  {
   "cell_type": "code",
   "execution_count": 7,
   "id": "8576b366-8150-44a0-8e1f-2dda77e58442",
   "metadata": {},
   "outputs": [
    {
     "data": {
      "text/plain": [
       "2-element Vector{Float64}:\n",
       " 1.7463820016477956\n",
       " 0.8400120071749972"
      ]
     },
     "execution_count": 7,
     "metadata": {},
     "output_type": "execute_result"
    }
   ],
   "source": [
    "α̂, β̂ = coef(ols) + [1;0]"
   ]
  },
  {
   "cell_type": "code",
   "execution_count": 8,
   "id": "23792670-2173-463d-a7d0-bdea33457528",
   "metadata": {},
   "outputs": [
    {
     "data": {
      "text/plain": [
       "100-element Vector{Float64}:\n",
       "  238.83445737385026\n",
       "   88.18010696938116\n",
       " 1710.0320911092897\n",
       " 3330.5098350612243\n",
       "  522.274325011522\n",
       "  257.26225436302934\n",
       " 1668.1919008982907\n",
       " 1545.3404375161551\n",
       " 2896.02831527883\n",
       "  863.1562854360719\n",
       " 3055.915812647661\n",
       " 2688.5846621047253\n",
       " 1881.799038843499\n",
       "    ⋮\n",
       "  683.6177726240803\n",
       " 3164.541334436326\n",
       "  238.83445737385026\n",
       " 3330.5098350612243\n",
       "  992.652759185115\n",
       "  448.6476671276475\n",
       " 1060.281739509783\n",
       "  712.2950250709482\n",
       " 1094.808289998648\n",
       "  926.9378941428532\n",
       "  771.1530470610775\n",
       " 2438.605307143071"
      ]
     },
     "execution_count": 8,
     "metadata": {},
     "output_type": "execute_result"
    }
   ],
   "source": [
    "ξ̂ = N .^ α̂"
   ]
  },
  {
   "cell_type": "code",
   "execution_count": 9,
   "id": "90443a54-2a5b-411c-ae6c-c69074ef80f8",
   "metadata": {},
   "outputs": [
    {
     "name": "stdout",
     "output_type": "stream",
     "text": [
      "[sum(M), sum(N .^ α), sum(ξ̂)] = [150295.0, 150458.91853372223, 130324.89260397527]\n"
     ]
    },
    {
     "data": {
      "text/plain": [
       "3-element Vector{Float64}:\n",
       " 150295.0\n",
       " 150458.91853372223\n",
       " 130324.89260397527"
      ]
     },
     "execution_count": 9,
     "metadata": {},
     "output_type": "execute_result"
    }
   ],
   "source": [
    "@show [sum(M), sum(N .^ α), sum(ξ̂)]"
   ]
  },
  {
   "cell_type": "code",
   "execution_count": 10,
   "id": "3f96039e-4a27-4ac6-b4d8-763ef6d0ee25",
   "metadata": {},
   "outputs": [
    {
     "data": {
      "text/plain": [
       "StatsModels.TableRegressionModel{GeneralizedLinearModel{GLM.GlmResp{Vector{Float64}, Poisson{Float64}, LogLink}, GLM.DensePredChol{Float64, LinearAlgebra.CholeskyPivoted{Float64, Matrix{Float64}, Vector{Int64}}}}, Matrix{Float64}}\n",
       "\n",
       "y ~ 0 + x1 + x2\n",
       "\n",
       "Coefficients:\n",
       "─────────────────────────────────────────────────────────────────\n",
       "       Coef.  Std. Error        z  Pr(>|z|)  Lower 95%  Upper 95%\n",
       "─────────────────────────────────────────────────────────────────\n",
       "x1  1.76485   0.00159636  1105.55    <1e-99   1.76172    1.76798\n",
       "x2  0.913676  0.00841233   108.61    <1e-99   0.897188   0.930164\n",
       "─────────────────────────────────────────────────────────────────"
      ]
     },
     "execution_count": 10,
     "metadata": {},
     "output_type": "execute_result"
    }
   ],
   "source": [
    "df1 = DataFrame(\n",
    "    y = m,\n",
    "    x1 = log.(N),\n",
    "    x2 = log.(n ./ N)\n",
    ")\n",
    "\n",
    "mm = glm(@formula(y ~ x1 + x2 + 0), df1, Poisson(), LogLink())"
   ]
  },
  {
   "cell_type": "code",
   "execution_count": 11,
   "id": "fc53ecf8-bc60-4475-b4b7-9e5b01a2093d",
   "metadata": {},
   "outputs": [
    {
     "data": {
      "text/plain": [
       "2-element Vector{Float64}:\n",
       " 1.7648532100084853\n",
       " 0.9136762237970035"
      ]
     },
     "execution_count": 11,
     "metadata": {},
     "output_type": "execute_result"
    }
   ],
   "source": [
    "α̂₁, β̂₁ = coef(mm)"
   ]
  },
  {
   "cell_type": "code",
   "execution_count": 12,
   "id": "f4abcceb-7092-46a4-b72a-05ddd40ef977",
   "metadata": {},
   "outputs": [
    {
     "name": "stdout",
     "output_type": "stream",
     "text": [
      "[sum(M), sum(N .^ α), sum(ξ̂), sum(N .^ α̂₁)] = [150295.0, 150458.91853372223, 130324.89260397527, 141025.928203878]\n"
     ]
    },
    {
     "data": {
      "text/plain": [
       "4-element Vector{Float64}:\n",
       " 150295.0\n",
       " 150458.91853372223\n",
       " 130324.89260397527\n",
       " 141025.928203878"
      ]
     },
     "execution_count": 12,
     "metadata": {},
     "output_type": "execute_result"
    }
   ],
   "source": [
    "@show [sum(M), sum(N .^ α), sum(ξ̂), sum(N .^ α̂₁)]"
   ]
  },
  {
   "cell_type": "code",
   "execution_count": 13,
   "id": "63a94a4f-ee30-4155-8e20-78a385c194d1",
   "metadata": {},
   "outputs": [],
   "source": [
    "α = 1.78\n",
    "β = 1\n",
    "Q = 100 # Liczba państw\n",
    "\n",
    "res = DataFrame(\n",
    "    actual     = [],\n",
    "    expected   = [],\n",
    "    glm_est    = [],\n",
    "    ols_est    = []\n",
    ")\n",
    "\n",
    "for k in 1:1000\n",
    "    N = reduce(vcat, rand.(Binomial.(rand(DiscreteUniform(2000, 4000), Q), .1), 1))\n",
    "    M = reduce(vcat, rand.(Poisson.(N .^ α), 1))\n",
    "    p = rand(Uniform(.1,.75), Q)\n",
    "    \n",
    "    m = reduce(vcat, rand.(Poisson.(M .* p), 1))\n",
    "    n = reduce(vcat, rand.(Binomial.(N, p), 1))\n",
    "\n",
    "    df1 = DataFrame(\n",
    "        y = m,\n",
    "        x1 = log.(N),\n",
    "        x2 = log.(n ./ N)\n",
    "    )\n",
    "\n",
    "    mm = glm(@formula(y ~ x1 + x2 + 0), df1, Poisson(), LogLink())\n",
    "    α̂₁, β̂₁ = coef(mm)\n",
    "\n",
    "    ols = lm(@formula(log(y) ~ x1 + x2 + 0), df1)\n",
    "    α̂₂, β̂₂ = coef(ols)\n",
    "    \n",
    "    push!(res, [sum(M) sum(N .^ α) sum(N .^ α̂₁) sum(N .^ α̂₂)])\n",
    "end # end for"
   ]
  },
  {
   "cell_type": "code",
   "execution_count": 14,
   "id": "5e2c1bb9-59d0-49a5-9205-84a742f21174",
   "metadata": {},
   "outputs": [
    {
     "data": {
      "text/html": [
       "<div><div style = \"float: left;\"><span>3×4 DataFrame</span></div><div style = \"clear: both;\"></div></div><div class = \"data-frame\" style = \"overflow-x: scroll;\"><table class = \"data-frame\" style = \"margin-bottom: 6px;\"><thead><tr class = \"header\"><th class = \"rowNumber\" style = \"font-weight: bold; text-align: right;\">Row</th><th style = \"text-align: left;\">rel_bias</th><th style = \"text-align: left;\">rel_mse</th><th style = \"text-align: left;\">rel_mae</th><th style = \"text-align: left;\">est</th></tr><tr class = \"subheader headerLastRow\"><th class = \"rowNumber\" style = \"font-weight: bold; text-align: right;\"></th><th title = \"Float64\" style = \"text-align: left;\">Float64</th><th title = \"Float64\" style = \"text-align: left;\">Float64</th><th title = \"Float64\" style = \"text-align: left;\">Float64</th><th title = \"String\" style = \"text-align: left;\">String</th></tr></thead><tbody><tr><td class = \"rowNumber\" style = \"font-weight: bold; text-align: right;\">1</td><td style = \"text-align: right;\">-1.69215e-5</td><td style = \"text-align: right;\">1.00738</td><td style = \"text-align: right;\">0.000495101</td><td style = \"text-align: left;\">Expected value</td></tr><tr><td class = \"rowNumber\" style = \"font-weight: bold; text-align: right;\">2</td><td style = \"text-align: right;\">0.0179668</td><td style = \"text-align: right;\">1261.93</td><td style = \"text-align: right;\">0.0189396</td><td style = \"text-align: left;\">glm</td></tr><tr><td class = \"rowNumber\" style = \"font-weight: bold; text-align: right;\">3</td><td style = \"text-align: right;\">0.0271943</td><td style = \"text-align: right;\">2834.57</td><td style = \"text-align: right;\">0.0283322</td><td style = \"text-align: left;\">ols</td></tr></tbody></table></div>"
      ],
      "text/latex": [
       "\\begin{tabular}{r|cccc}\n",
       "\t& rel\\_bias & rel\\_mse & rel\\_mae & est\\\\\n",
       "\t\\hline\n",
       "\t& Float64 & Float64 & Float64 & String\\\\\n",
       "\t\\hline\n",
       "\t1 & -1.69215e-5 & 1.00738 & 0.000495101 & Expected value \\\\\n",
       "\t2 & 0.0179668 & 1261.93 & 0.0189396 & glm \\\\\n",
       "\t3 & 0.0271943 & 2834.57 & 0.0283322 & ols \\\\\n",
       "\\end{tabular}\n"
      ],
      "text/plain": [
       "\u001b[1m3×4 DataFrame\u001b[0m\n",
       "\u001b[1m Row \u001b[0m│\u001b[1m rel_bias    \u001b[0m\u001b[1m rel_mse    \u001b[0m\u001b[1m rel_mae     \u001b[0m\u001b[1m est            \u001b[0m\n",
       "     │\u001b[90m Float64     \u001b[0m\u001b[90m Float64    \u001b[0m\u001b[90m Float64     \u001b[0m\u001b[90m String         \u001b[0m\n",
       "─────┼──────────────────────────────────────────────────────\n",
       "   1 │ -1.69215e-5     1.00738  0.000495101  Expected value\n",
       "   2 │  0.0179668   1261.93     0.0189396    glm\n",
       "   3 │  0.0271943   2834.57     0.0283322    ols"
      ]
     },
     "execution_count": 14,
     "metadata": {},
     "output_type": "execute_result"
    }
   ],
   "source": [
    "DataFrame(\n",
    "    rel_bias = [mean((res[:, 1] .- res[:, 2]) ./ res[:, 1]), mean((res[:, 1] .- res[:, 3]) ./ res[:, 1]), mean((res[:, 1] .- res[:, 4]) ./ res[:, 1])],\n",
    "    rel_mse  = [mean(((res[:, 1] .- res[:, 2]) .^ 2) ./ res[:, 1]), mean(((res[:, 1] .- res[:, 3]) .^ 2) ./ res[:, 1]), mean(((res[:, 1] .- res[:, 4]) .^ 2) ./ res[:, 1])],\n",
    "    rel_mae  = [mean(abs.(res[:, 1] .- res[:, 2]) ./ res[:, 1]), mean(abs.(res[:, 1] .- res[:, 3]) ./ res[:, 1]), mean(abs.(res[:, 1] .- res[:, 4]) ./ res[:, 1])],\n",
    "    est  = [\"Expected value\",\"glm\",\"ols\"]\n",
    ")"
   ]
  },
  {
   "cell_type": "code",
   "execution_count": 15,
   "id": "57363dc2-4ae5-43aa-abe4-a7de0f527eea",
   "metadata": {},
   "outputs": [
    {
     "data": {
      "text/html": [
       "<div><div style = \"float: left;\"><span>2×4 DataFrame</span></div><div style = \"clear: both;\"></div></div><div class = \"data-frame\" style = \"overflow-x: scroll;\"><table class = \"data-frame\" style = \"margin-bottom: 6px;\"><thead><tr class = \"header\"><th class = \"rowNumber\" style = \"font-weight: bold; text-align: right;\">Row</th><th style = \"text-align: left;\">rel_bias</th><th style = \"text-align: left;\">rel_mse</th><th style = \"text-align: left;\">rel_mae</th><th style = \"text-align: left;\">est</th></tr><tr class = \"subheader headerLastRow\"><th class = \"rowNumber\" style = \"font-weight: bold; text-align: right;\"></th><th title = \"Float64\" style = \"text-align: left;\">Float64</th><th title = \"Float64\" style = \"text-align: left;\">Float64</th><th title = \"Float64\" style = \"text-align: left;\">Float64</th><th title = \"String\" style = \"text-align: left;\">String</th></tr></thead><tbody><tr><td class = \"rowNumber\" style = \"font-weight: bold; text-align: right;\">1</td><td style = \"text-align: right;\">0.0179829</td><td style = \"text-align: right;\">1265.21</td><td style = \"text-align: right;\">0.0189673</td><td style = \"text-align: left;\">glm</td></tr><tr><td class = \"rowNumber\" style = \"font-weight: bold; text-align: right;\">2</td><td style = \"text-align: right;\">0.0272103</td><td style = \"text-align: right;\">2838.43</td><td style = \"text-align: right;\">0.0283473</td><td style = \"text-align: left;\">ols</td></tr></tbody></table></div>"
      ],
      "text/latex": [
       "\\begin{tabular}{r|cccc}\n",
       "\t& rel\\_bias & rel\\_mse & rel\\_mae & est\\\\\n",
       "\t\\hline\n",
       "\t& Float64 & Float64 & Float64 & String\\\\\n",
       "\t\\hline\n",
       "\t1 & 0.0179829 & 1265.21 & 0.0189673 & glm \\\\\n",
       "\t2 & 0.0272103 & 2838.43 & 0.0283473 & ols \\\\\n",
       "\\end{tabular}\n"
      ],
      "text/plain": [
       "\u001b[1m2×4 DataFrame\u001b[0m\n",
       "\u001b[1m Row \u001b[0m│\u001b[1m rel_bias  \u001b[0m\u001b[1m rel_mse \u001b[0m\u001b[1m rel_mae   \u001b[0m\u001b[1m est    \u001b[0m\n",
       "     │\u001b[90m Float64   \u001b[0m\u001b[90m Float64 \u001b[0m\u001b[90m Float64   \u001b[0m\u001b[90m String \u001b[0m\n",
       "─────┼───────────────────────────────────────\n",
       "   1 │ 0.0179829  1265.21  0.0189673  glm\n",
       "   2 │ 0.0272103  2838.43  0.0283473  ols"
      ]
     },
     "execution_count": 15,
     "metadata": {},
     "output_type": "execute_result"
    }
   ],
   "source": [
    "DataFrame(\n",
    "    rel_bias = [mean((res[:, 2] .- res[:, 3]) ./ res[:, 2]), mean((res[:, 2] .- res[:, 4]) ./ res[:, 2])],\n",
    "    rel_mse  = [mean(((res[:, 2] .- res[:, 3]) .^ 2) ./ res[:, 2]), mean(((res[:, 2] .- res[:, 4]) .^ 2) ./ res[:, 2])],\n",
    "    rel_mae  = [mean(abs.(res[:, 2] .- res[:, 3]) ./ res[:, 2]), mean(abs.(res[:, 2] .- res[:, 4]) ./ res[:, 2])],\n",
    "    est  = [\"glm\",\"ols\"]\n",
    ")"
   ]
  },
  {
   "cell_type": "code",
   "execution_count": 16,
   "id": "02404d63-f7a7-48b6-8ace-cbe7a3f22671",
   "metadata": {},
   "outputs": [
    {
     "data": {
      "text/html": [
       "<div><div style = \"float: left;\"><span>3×4 DataFrame</span></div><div style = \"clear: both;\"></div></div><div class = \"data-frame\" style = \"overflow-x: scroll;\"><table class = \"data-frame\" style = \"margin-bottom: 6px;\"><thead><tr class = \"header\"><th class = \"rowNumber\" style = \"font-weight: bold; text-align: right;\">Row</th><th style = \"text-align: left;\">rel_bias</th><th style = \"text-align: left;\">rel_mse</th><th style = \"text-align: left;\">rel_mae</th><th style = \"text-align: left;\">est</th></tr><tr class = \"subheader headerLastRow\"><th class = \"rowNumber\" style = \"font-weight: bold; text-align: right;\"></th><th title = \"Float64\" style = \"text-align: left;\">Float64</th><th title = \"Float64\" style = \"text-align: left;\">Float64</th><th title = \"Float64\" style = \"text-align: left;\">Float64</th><th title = \"String\" style = \"text-align: left;\">String</th></tr></thead><tbody><tr><td class = \"rowNumber\" style = \"font-weight: bold; text-align: right;\">1</td><td style = \"text-align: right;\">5.09603e-5</td><td style = \"text-align: right;\">0.942724</td><td style = \"text-align: right;\">0.000962992</td><td style = \"text-align: left;\">Expected value</td></tr><tr><td class = \"rowNumber\" style = \"font-weight: bold; text-align: right;\">2</td><td style = \"text-align: right;\">0.0539216</td><td style = \"text-align: right;\">3598.31</td><td style = \"text-align: right;\">0.061367</td><td style = \"text-align: left;\">glm</td></tr><tr><td class = \"rowNumber\" style = \"font-weight: bold; text-align: right;\">3</td><td style = \"text-align: right;\">0.0747812</td><td style = \"text-align: right;\">6713.0</td><td style = \"text-align: right;\">0.0831192</td><td style = \"text-align: left;\">ols</td></tr></tbody></table></div>"
      ],
      "text/latex": [
       "\\begin{tabular}{r|cccc}\n",
       "\t& rel\\_bias & rel\\_mse & rel\\_mae & est\\\\\n",
       "\t\\hline\n",
       "\t& Float64 & Float64 & Float64 & String\\\\\n",
       "\t\\hline\n",
       "\t1 & 5.09603e-5 & 0.942724 & 0.000962992 & Expected value \\\\\n",
       "\t2 & 0.0539216 & 3598.31 & 0.061367 & glm \\\\\n",
       "\t3 & 0.0747812 & 6713.0 & 0.0831192 & ols \\\\\n",
       "\\end{tabular}\n"
      ],
      "text/plain": [
       "\u001b[1m3×4 DataFrame\u001b[0m\n",
       "\u001b[1m Row \u001b[0m│\u001b[1m rel_bias   \u001b[0m\u001b[1m rel_mse     \u001b[0m\u001b[1m rel_mae     \u001b[0m\u001b[1m est            \u001b[0m\n",
       "     │\u001b[90m Float64    \u001b[0m\u001b[90m Float64     \u001b[0m\u001b[90m Float64     \u001b[0m\u001b[90m String         \u001b[0m\n",
       "─────┼──────────────────────────────────────────────────────\n",
       "   1 │ 5.09603e-5     0.942724  0.000962992  Expected value\n",
       "   2 │ 0.0539216   3598.31      0.061367     glm\n",
       "   3 │ 0.0747812   6713.0       0.0831192    ols"
      ]
     },
     "execution_count": 16,
     "metadata": {},
     "output_type": "execute_result"
    }
   ],
   "source": [
    "α = 2.3\n",
    "β = 1.2\n",
    "Q = 20 # Liczba państw\n",
    "\n",
    "res = DataFrame(\n",
    "    actual     = [],\n",
    "    expected   = [],\n",
    "    glm_est    = [],\n",
    "    ols_est    = []\n",
    ")\n",
    "\n",
    "for k in 1:1000\n",
    "    N = reduce(vcat, rand.(Binomial.(rand(DiscreteUniform(200, 400), Q), .3), 1))\n",
    "    M = reduce(vcat, rand.(Poisson.(N .^ α), 1))\n",
    "    p = rand(Uniform(.1,.75), Q)\n",
    "    \n",
    "    m = reduce(vcat, rand.(Poisson.(M .* p), 1))\n",
    "    n = reduce(vcat, rand.(Binomial.(N, p), 1))\n",
    "\n",
    "    df1 = DataFrame(\n",
    "        y = m,\n",
    "        x1 = log.(N),\n",
    "        x2 = log.(n ./ N)\n",
    "    )\n",
    "\n",
    "    mm = glm(@formula(y ~ x1 + x2 + 0), df1, Poisson(), LogLink())\n",
    "    α̂₁, β̂₁ = coef(mm)\n",
    "\n",
    "    ols = lm(@formula(log(y) ~ x1 + x2 + 0), df1)\n",
    "    α̂₂, β̂₂ = coef(ols)\n",
    "    \n",
    "    push!(res, [sum(M) sum(N .^ α) sum(N .^ α̂₁) sum(N .^ α̂₂)])\n",
    "end # end for\n",
    "\n",
    "DataFrame(\n",
    "    rel_bias = [mean((res[:, 1] .- res[:, 2]) ./ res[:, 1]), mean((res[:, 1] .- res[:, 3]) ./ res[:, 1]), mean((res[:, 1] .- res[:, 4]) ./ res[:, 1])],\n",
    "    rel_mse  = [mean(((res[:, 1] .- res[:, 2]) .^ 2) ./ res[:, 1]), mean(((res[:, 1] .- res[:, 3]) .^ 2) ./ res[:, 1]), mean(((res[:, 1] .- res[:, 4]) .^ 2) ./ res[:, 1])],\n",
    "    rel_mae  = [mean(abs.(res[:, 1] .- res[:, 2]) ./ res[:, 1]), mean(abs.(res[:, 1] .- res[:, 3]) ./ res[:, 1]), mean(abs.(res[:, 1] .- res[:, 4]) ./ res[:, 1])],\n",
    "    est      = [\"Expected value\",\"glm\",\"ols\"]\n",
    ")"
   ]
  },
  {
   "cell_type": "code",
   "execution_count": 17,
   "id": "51e8c9c2-c198-4ec0-9397-84dc21bd8d94",
   "metadata": {},
   "outputs": [
    {
     "data": {
      "text/html": [
       "<div><div style = \"float: left;\"><span>2×4 DataFrame</span></div><div style = \"clear: both;\"></div></div><div class = \"data-frame\" style = \"overflow-x: scroll;\"><table class = \"data-frame\" style = \"margin-bottom: 6px;\"><thead><tr class = \"header\"><th class = \"rowNumber\" style = \"font-weight: bold; text-align: right;\">Row</th><th style = \"text-align: left;\">rel_bias</th><th style = \"text-align: left;\">rel_mse</th><th style = \"text-align: left;\">rel_mae</th><th style = \"text-align: left;\">est</th></tr><tr class = \"subheader headerLastRow\"><th class = \"rowNumber\" style = \"font-weight: bold; text-align: right;\"></th><th title = \"Float64\" style = \"text-align: left;\">Float64</th><th title = \"Float64\" style = \"text-align: left;\">Float64</th><th title = \"Float64\" style = \"text-align: left;\">Float64</th><th title = \"String\" style = \"text-align: left;\">String</th></tr></thead><tbody><tr><td class = \"rowNumber\" style = \"font-weight: bold; text-align: right;\">1</td><td style = \"text-align: right;\">0.0538758</td><td style = \"text-align: right;\">3590.22</td><td style = \"text-align: right;\">0.0612974</td><td style = \"text-align: left;\">glm</td></tr><tr><td class = \"rowNumber\" style = \"font-weight: bold; text-align: right;\">2</td><td style = \"text-align: right;\">0.0747362</td><td style = \"text-align: right;\">6703.69</td><td style = \"text-align: right;\">0.0830519</td><td style = \"text-align: left;\">ols</td></tr></tbody></table></div>"
      ],
      "text/latex": [
       "\\begin{tabular}{r|cccc}\n",
       "\t& rel\\_bias & rel\\_mse & rel\\_mae & est\\\\\n",
       "\t\\hline\n",
       "\t& Float64 & Float64 & Float64 & String\\\\\n",
       "\t\\hline\n",
       "\t1 & 0.0538758 & 3590.22 & 0.0612974 & glm \\\\\n",
       "\t2 & 0.0747362 & 6703.69 & 0.0830519 & ols \\\\\n",
       "\\end{tabular}\n"
      ],
      "text/plain": [
       "\u001b[1m2×4 DataFrame\u001b[0m\n",
       "\u001b[1m Row \u001b[0m│\u001b[1m rel_bias  \u001b[0m\u001b[1m rel_mse \u001b[0m\u001b[1m rel_mae   \u001b[0m\u001b[1m est    \u001b[0m\n",
       "     │\u001b[90m Float64   \u001b[0m\u001b[90m Float64 \u001b[0m\u001b[90m Float64   \u001b[0m\u001b[90m String \u001b[0m\n",
       "─────┼───────────────────────────────────────\n",
       "   1 │ 0.0538758  3590.22  0.0612974  glm\n",
       "   2 │ 0.0747362  6703.69  0.0830519  ols"
      ]
     },
     "execution_count": 17,
     "metadata": {},
     "output_type": "execute_result"
    }
   ],
   "source": [
    "DataFrame(\n",
    "    rel_bias = [mean((res[:, 2] .- res[:, 3]) ./ res[:, 2]), mean((res[:, 2] .- res[:, 4]) ./ res[:, 2])],\n",
    "    rel_mse  = [mean(((res[:, 2] .- res[:, 3]) .^ 2) ./ res[:, 2]), mean(((res[:, 2] .- res[:, 4]) .^ 2) ./ res[:, 2])],\n",
    "    rel_mae  = [mean(abs.(res[:, 2] .- res[:, 3]) ./ res[:, 2]), mean(abs.(res[:, 2] .- res[:, 4]) ./ res[:, 2])],\n",
    "    est      = [\"glm\",\"ols\"]\n",
    ")"
   ]
  },
  {
   "cell_type": "code",
   "execution_count": null,
   "id": "a4feea78-908d-45f5-aea2-67eb3fb93ac3",
   "metadata": {},
   "outputs": [],
   "source": []
  }
 ],
 "metadata": {
  "kernelspec": {
   "display_name": "Julia 1.8.3",
   "language": "julia",
   "name": "julia-1.8"
  },
  "language_info": {
   "file_extension": ".jl",
   "mimetype": "application/julia",
   "name": "julia",
   "version": "1.8.3"
  }
 },
 "nbformat": 4,
 "nbformat_minor": 5
}
