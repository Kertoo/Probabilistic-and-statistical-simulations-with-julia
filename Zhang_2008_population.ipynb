{
 "cells": [
  {
   "cell_type": "code",
   "execution_count": 99,
   "id": "198fcb5a-c533-4f33-b3eb-0c1164188010",
   "metadata": {},
   "outputs": [],
   "source": [
    "using Random, Distributions, DataFrames, GLM"
   ]
  },
  {
   "cell_type": "code",
   "execution_count": 100,
   "id": "2b5383b8-30a4-4920-a2e8-a9ee93def760",
   "metadata": {},
   "outputs": [
    {
     "data": {
      "text/plain": [
       "100"
      ]
     },
     "execution_count": 100,
     "metadata": {},
     "output_type": "execute_result"
    }
   ],
   "source": [
    "α = 1.78\n",
    "β = 1\n",
    "Q = 100 # Liczba państw"
   ]
  },
  {
   "cell_type": "code",
   "execution_count": 105,
   "id": "d4da5c59-0cae-45ca-a597-f4f4b74cd6a6",
   "metadata": {},
   "outputs": [
    {
     "data": {
      "text/plain": [
       "100-element Vector{Int64}:\n",
       "  9\n",
       "  8\n",
       " 10\n",
       " 15\n",
       " 13\n",
       "  8\n",
       " 11\n",
       " 24\n",
       "  4\n",
       " 25\n",
       "  7\n",
       " 54\n",
       " 12\n",
       "  ⋮\n",
       " 30\n",
       " 12\n",
       " 42\n",
       " 54\n",
       " 15\n",
       " 30\n",
       " 16\n",
       " 13\n",
       " 35\n",
       " 49\n",
       "  7\n",
       " 24"
      ]
     },
     "execution_count": 105,
     "metadata": {},
     "output_type": "execute_result"
    }
   ],
   "source": [
    "p = rand(Uniform(.1,.75), Q)\n",
    "\n",
    "N = reduce(vcat, rand.(Binomial.(rand(DiscreteUniform(100, 1000), Q), .1), 1))\n",
    "M = reduce(vcat, rand.(Poisson.(N .^ α), 1))\n",
    "\n",
    "m = reduce(vcat, rand.(Poisson.(M .* p), 1))\n",
    "n = reduce(vcat, rand.(Binomial.(N, p), 1))"
   ]
  },
  {
   "cell_type": "code",
   "execution_count": 106,
   "id": "ac73f046-71a5-4ca8-9ba9-29eeaeaa444b",
   "metadata": {},
   "outputs": [
    {
     "data": {
      "text/html": [
       "<div><div style = \"float: left;\"><span>100×3 DataFrame</span></div><div style = \"float: right;\"><span style = \"font-style: italic;\">75 rows omitted</span></div><div style = \"clear: both;\"></div></div><div class = \"data-frame\" style = \"overflow-x: scroll;\"><table class = \"data-frame\" style = \"margin-bottom: 6px;\"><thead><tr class = \"header\"><th class = \"rowNumber\" style = \"font-weight: bold; text-align: right;\">Row</th><th style = \"text-align: left;\">y</th><th style = \"text-align: left;\">x1</th><th style = \"text-align: left;\">x2</th></tr><tr class = \"subheader headerLastRow\"><th class = \"rowNumber\" style = \"font-weight: bold; text-align: right;\"></th><th title = \"Float64\" style = \"text-align: left;\">Float64</th><th title = \"Float64\" style = \"text-align: left;\">Float64</th><th title = \"Float64\" style = \"text-align: left;\">Float64</th></tr></thead><tbody><tr><td class = \"rowNumber\" style = \"font-weight: bold; text-align: right;\">1</td><td style = \"text-align: right;\">1.58838</td><td style = \"text-align: right;\">3.8712</td><td style = \"text-align: right;\">-1.67398</td></tr><tr><td class = \"rowNumber\" style = \"font-weight: bold; text-align: right;\">2</td><td style = \"text-align: right;\">1.238</td><td style = \"text-align: right;\">4.35671</td><td style = \"text-align: right;\">-2.27727</td></tr><tr><td class = \"rowNumber\" style = \"font-weight: bold; text-align: right;\">3</td><td style = \"text-align: right;\">1.75402</td><td style = \"text-align: right;\">3.80666</td><td style = \"text-align: right;\">-1.50408</td></tr><tr><td class = \"rowNumber\" style = \"font-weight: bold; text-align: right;\">4</td><td style = \"text-align: right;\">1.70475</td><td style = \"text-align: right;\">3.3322</td><td style = \"text-align: right;\">-0.624154</td></tr><tr><td class = \"rowNumber\" style = \"font-weight: bold; text-align: right;\">5</td><td style = \"text-align: right;\">1.719</td><td style = \"text-align: right;\">3.63759</td><td style = \"text-align: right;\">-1.07264</td></tr><tr><td class = \"rowNumber\" style = \"font-weight: bold; text-align: right;\">6</td><td style = \"text-align: right;\">1.62597</td><td style = \"text-align: right;\">2.48491</td><td style = \"text-align: right;\">-0.405465</td></tr><tr><td class = \"rowNumber\" style = \"font-weight: bold; text-align: right;\">7</td><td style = \"text-align: right;\">2.16244</td><td style = \"text-align: right;\">3.66356</td><td style = \"text-align: right;\">-1.26567</td></tr><tr><td class = \"rowNumber\" style = \"font-weight: bold; text-align: right;\">8</td><td style = \"text-align: right;\">2.43524</td><td style = \"text-align: right;\">3.7612</td><td style = \"text-align: right;\">-0.583146</td></tr><tr><td class = \"rowNumber\" style = \"font-weight: bold; text-align: right;\">9</td><td style = \"text-align: right;\">0.980829</td><td style = \"text-align: right;\">2.19722</td><td style = \"text-align: right;\">-0.81093</td></tr><tr><td class = \"rowNumber\" style = \"font-weight: bold; text-align: right;\">10</td><td style = \"text-align: right;\">1.98823</td><td style = \"text-align: right;\">4.33073</td><td style = \"text-align: right;\">-1.11186</td></tr><tr><td class = \"rowNumber\" style = \"font-weight: bold; text-align: right;\">11</td><td style = \"text-align: right;\">1.43508</td><td style = \"text-align: right;\">3.91202</td><td style = \"text-align: right;\">-1.96611</td></tr><tr><td class = \"rowNumber\" style = \"font-weight: bold; text-align: right;\">12</td><td style = \"text-align: right;\">3.09428</td><td style = \"text-align: right;\">4.58497</td><td style = \"text-align: right;\">-0.595983</td></tr><tr><td class = \"rowNumber\" style = \"font-weight: bold; text-align: right;\">13</td><td style = \"text-align: right;\">1.13708</td><td style = \"text-align: right;\">3.52636</td><td style = \"text-align: right;\">-1.04145</td></tr><tr><td style = \"text-align: right;\">&vellip;</td><td style = \"text-align: right;\">&vellip;</td><td style = \"text-align: right;\">&vellip;</td><td style = \"text-align: right;\">&vellip;</td></tr><tr><td class = \"rowNumber\" style = \"font-weight: bold; text-align: right;\">89</td><td style = \"text-align: right;\">2.69904</td><td style = \"text-align: right;\">3.95124</td><td style = \"text-align: right;\">-0.550046</td></tr><tr><td class = \"rowNumber\" style = \"font-weight: bold; text-align: right;\">90</td><td style = \"text-align: right;\">1.37733</td><td style = \"text-align: right;\">4.02535</td><td style = \"text-align: right;\">-1.54045</td></tr><tr><td class = \"rowNumber\" style = \"font-weight: bold; text-align: right;\">91</td><td style = \"text-align: right;\">2.86863</td><td style = \"text-align: right;\">4.12713</td><td style = \"text-align: right;\">-0.389465</td></tr><tr><td class = \"rowNumber\" style = \"font-weight: bold; text-align: right;\">92</td><td style = \"text-align: right;\">2.99233</td><td style = \"text-align: right;\">4.63473</td><td style = \"text-align: right;\">-0.645745</td></tr><tr><td class = \"rowNumber\" style = \"font-weight: bold; text-align: right;\">93</td><td style = \"text-align: right;\">2.06329</td><td style = \"text-align: right;\">3.66356</td><td style = \"text-align: right;\">-0.955511</td></tr><tr><td class = \"rowNumber\" style = \"font-weight: bold; text-align: right;\">94</td><td style = \"text-align: right;\">2.58279</td><td style = \"text-align: right;\">3.85015</td><td style = \"text-align: right;\">-0.44895</td></tr><tr><td class = \"rowNumber\" style = \"font-weight: bold; text-align: right;\">95</td><td style = \"text-align: right;\">2.20801</td><td style = \"text-align: right;\">3.71357</td><td style = \"text-align: right;\">-0.940983</td></tr><tr><td class = \"rowNumber\" style = \"font-weight: bold; text-align: right;\">96</td><td style = \"text-align: right;\">1.61443</td><td style = \"text-align: right;\">3.68888</td><td style = \"text-align: right;\">-1.12393</td></tr><tr><td class = \"rowNumber\" style = \"font-weight: bold; text-align: right;\">97</td><td style = \"text-align: right;\">2.39122</td><td style = \"text-align: right;\">4.40672</td><td style = \"text-align: right;\">-0.851371</td></tr><tr><td class = \"rowNumber\" style = \"font-weight: bold; text-align: right;\">98</td><td style = \"text-align: right;\">3.00726</td><td style = \"text-align: right;\">4.23411</td><td style = \"text-align: right;\">-0.342286</td></tr><tr><td class = \"rowNumber\" style = \"font-weight: bold; text-align: right;\">99</td><td style = \"text-align: right;\">1.06087</td><td style = \"text-align: right;\">3.58352</td><td style = \"text-align: right;\">-1.63761</td></tr><tr><td class = \"rowNumber\" style = \"font-weight: bold; text-align: right;\">100</td><td style = \"text-align: right;\">2.13287</td><td style = \"text-align: right;\">3.71357</td><td style = \"text-align: right;\">-0.535518</td></tr></tbody></table></div>"
      ],
      "text/latex": [
       "\\begin{tabular}{r|ccc}\n",
       "\t& y & x1 & x2\\\\\n",
       "\t\\hline\n",
       "\t& Float64 & Float64 & Float64\\\\\n",
       "\t\\hline\n",
       "\t1 & 1.58838 & 3.8712 & -1.67398 \\\\\n",
       "\t2 & 1.238 & 4.35671 & -2.27727 \\\\\n",
       "\t3 & 1.75402 & 3.80666 & -1.50408 \\\\\n",
       "\t4 & 1.70475 & 3.3322 & -0.624154 \\\\\n",
       "\t5 & 1.719 & 3.63759 & -1.07264 \\\\\n",
       "\t6 & 1.62597 & 2.48491 & -0.405465 \\\\\n",
       "\t7 & 2.16244 & 3.66356 & -1.26567 \\\\\n",
       "\t8 & 2.43524 & 3.7612 & -0.583146 \\\\\n",
       "\t9 & 0.980829 & 2.19722 & -0.81093 \\\\\n",
       "\t10 & 1.98823 & 4.33073 & -1.11186 \\\\\n",
       "\t11 & 1.43508 & 3.91202 & -1.96611 \\\\\n",
       "\t12 & 3.09428 & 4.58497 & -0.595983 \\\\\n",
       "\t13 & 1.13708 & 3.52636 & -1.04145 \\\\\n",
       "\t14 & 0.367725 & 2.19722 & -0.81093 \\\\\n",
       "\t15 & 1.79176 & 4.00733 & -1.36828 \\\\\n",
       "\t16 & 2.63631 & 4.64439 & -0.980829 \\\\\n",
       "\t17 & 2.09568 & 4.43082 & -1.25276 \\\\\n",
       "\t18 & 2.22389 & 3.61092 & -0.615186 \\\\\n",
       "\t19 & 3.1237 & 4.48864 & -0.394292 \\\\\n",
       "\t20 & 2.23973 & 4.46591 & -1.20781 \\\\\n",
       "\t21 & 2.28325 & 4.54329 & -1.24746 \\\\\n",
       "\t22 & 1.03977 & 3.55535 & -1.76359 \\\\\n",
       "\t23 & 1.25804 & 3.29584 & -1.2164 \\\\\n",
       "\t24 & 2.06408 & 3.71357 & -0.940983 \\\\\n",
       "\t25 & 1.62314 & 4.06044 & -1.66255 \\\\\n",
       "\t26 & 2.36712 & 4.23411 & -0.97601 \\\\\n",
       "\t27 & 3.1591 & 4.51086 & -0.416515 \\\\\n",
       "\t28 & 0.820981 & 3.09104 & -3.09104 \\\\\n",
       "\t29 & 1.7492 & 4.38203 & -1.67398 \\\\\n",
       "\t30 & 2.61496 & 3.98898 & -0.462624 \\\\\n",
       "\t$\\dots$ & $\\dots$ & $\\dots$ & $\\dots$ \\\\\n",
       "\\end{tabular}\n"
      ],
      "text/plain": [
       "\u001b[1m100×3 DataFrame\u001b[0m\n",
       "\u001b[1m Row \u001b[0m│\u001b[1m y        \u001b[0m\u001b[1m x1      \u001b[0m\u001b[1m x2        \u001b[0m\n",
       "     │\u001b[90m Float64  \u001b[0m\u001b[90m Float64 \u001b[0m\u001b[90m Float64   \u001b[0m\n",
       "─────┼──────────────────────────────\n",
       "   1 │ 1.58838   3.8712   -1.67398\n",
       "   2 │ 1.238     4.35671  -2.27727\n",
       "   3 │ 1.75402   3.80666  -1.50408\n",
       "   4 │ 1.70475   3.3322   -0.624154\n",
       "   5 │ 1.719     3.63759  -1.07264\n",
       "   6 │ 1.62597   2.48491  -0.405465\n",
       "   7 │ 2.16244   3.66356  -1.26567\n",
       "   8 │ 2.43524   3.7612   -0.583146\n",
       "   9 │ 0.980829  2.19722  -0.81093\n",
       "  10 │ 1.98823   4.33073  -1.11186\n",
       "  11 │ 1.43508   3.91202  -1.96611\n",
       "  ⋮  │    ⋮         ⋮         ⋮\n",
       "  91 │ 2.86863   4.12713  -0.389465\n",
       "  92 │ 2.99233   4.63473  -0.645745\n",
       "  93 │ 2.06329   3.66356  -0.955511\n",
       "  94 │ 2.58279   3.85015  -0.44895\n",
       "  95 │ 2.20801   3.71357  -0.940983\n",
       "  96 │ 1.61443   3.68888  -1.12393\n",
       "  97 │ 2.39122   4.40672  -0.851371\n",
       "  98 │ 3.00726   4.23411  -0.342286\n",
       "  99 │ 1.06087   3.58352  -1.63761\n",
       " 100 │ 2.13287   3.71357  -0.535518\n",
       "\u001b[36m                     79 rows omitted\u001b[0m"
      ]
     },
     "execution_count": 106,
     "metadata": {},
     "output_type": "execute_result"
    }
   ],
   "source": [
    "df = DataFrame(\n",
    "    y = log.(m ./ N),\n",
    "    x1 = log.(N),\n",
    "    x2 = log.(n ./ N)\n",
    ")"
   ]
  },
  {
   "cell_type": "code",
   "execution_count": 107,
   "id": "1f9c4947-c412-4a40-b234-ab2b1585fe60",
   "metadata": {},
   "outputs": [
    {
     "data": {
      "text/plain": [
       "StatsModels.TableRegressionModel{LinearModel{GLM.LmResp{Vector{Float64}}, GLM.DensePredChol{Float64, LinearAlgebra.CholeskyPivoted{Float64, Matrix{Float64}, Vector{Int64}}}}, Matrix{Float64}}\n",
       "\n",
       "y ~ 0 + x1 + x2\n",
       "\n",
       "Coefficients:\n",
       "────────────────────────────────────────────────────────────────\n",
       "       Coef.  Std. Error       t  Pr(>|t|)  Lower 95%  Upper 95%\n",
       "────────────────────────────────────────────────────────────────\n",
       "x1  1.73371     0.012118  143.07    <1e-99   1.70967    1.75776\n",
       "x2  0.761975    0.040212   18.95    <1e-33   0.682176   0.841775\n",
       "────────────────────────────────────────────────────────────────"
      ]
     },
     "execution_count": 107,
     "metadata": {},
     "output_type": "execute_result"
    }
   ],
   "source": [
    "df1 = DataFrame(\n",
    "    y = log.(m),\n",
    "    x1 = log.(N),\n",
    "    x2 = log.(n ./ N)\n",
    ")\n",
    "lm(@formula(y ~ x1 + x2 + 0), df1)"
   ]
  },
  {
   "cell_type": "code",
   "execution_count": 108,
   "id": "371f47ca-3697-41ce-a8af-d4200689fe78",
   "metadata": {},
   "outputs": [
    {
     "data": {
      "text/plain": [
       "StatsModels.TableRegressionModel{LinearModel{GLM.LmResp{Vector{Float64}}, GLM.DensePredChol{Float64, LinearAlgebra.CholeskyPivoted{Float64, Matrix{Float64}, Vector{Int64}}}}, Matrix{Float64}}\n",
       "\n",
       "y ~ 0 + x1 + x2\n",
       "\n",
       "Coefficients:\n",
       "───────────────────────────────────────────────────────────────\n",
       "       Coef.  Std. Error      t  Pr(>|t|)  Lower 95%  Upper 95%\n",
       "───────────────────────────────────────────────────────────────\n",
       "x1  0.733715    0.012118  60.55    <1e-78   0.709667   0.757763\n",
       "x2  0.761975    0.040212  18.95    <1e-33   0.682176   0.841775\n",
       "───────────────────────────────────────────────────────────────"
      ]
     },
     "execution_count": 108,
     "metadata": {},
     "output_type": "execute_result"
    }
   ],
   "source": [
    "ols = lm(@formula(y ~ x1 + x2 + 0), df)"
   ]
  },
  {
   "cell_type": "code",
   "execution_count": 109,
   "id": "8576b366-8150-44a0-8e1f-2dda77e58442",
   "metadata": {},
   "outputs": [
    {
     "data": {
      "text/plain": [
       "2-element Vector{Float64}:\n",
       " 1.733714957860516\n",
       " 0.7619752555816168"
      ]
     },
     "execution_count": 109,
     "metadata": {},
     "output_type": "execute_result"
    }
   ],
   "source": [
    "α̂, β̂ = coef(ols) + [1;0]"
   ]
  },
  {
   "cell_type": "code",
   "execution_count": 110,
   "id": "23792670-2173-463d-a7d0-bdea33457528",
   "metadata": {},
   "outputs": [
    {
     "data": {
      "text/plain": [
       "100-element Vector{Float64}:\n",
       "  821.8509869135984\n",
       " 1907.0088757216774\n",
       "  734.8509562525965\n",
       "  322.819325176451\n",
       "  548.1437311202786\n",
       "   74.3006594823566\n",
       "  573.3931602330416\n",
       "  679.154675159818\n",
       "   45.12160216369667\n",
       " 1823.033535999497\n",
       "  882.1241449427434\n",
       " 2832.816425408101\n",
       "  452.009857551145\n",
       "    ⋮\n",
       "  944.1927570175\n",
       " 1073.642591264554\n",
       " 1280.8441304304738\n",
       " 3088.0619501590986\n",
       "  573.3931602330416\n",
       "  792.3937973002202\n",
       "  625.3274541271684\n",
       "  599.1221420978097\n",
       " 2079.7335719321904\n",
       " 1541.843072587947\n",
       "  499.09695994236273\n",
       "  625.3274541271684"
      ]
     },
     "execution_count": 110,
     "metadata": {},
     "output_type": "execute_result"
    }
   ],
   "source": [
    "ξ̂ = N .^ α̂"
   ]
  },
  {
   "cell_type": "code",
   "execution_count": 111,
   "id": "90443a54-2a5b-411c-ae6c-c69074ef80f8",
   "metadata": {},
   "outputs": [
    {
     "name": "stdout",
     "output_type": "stream",
     "text": [
      "[sum(M), sum(ξ̂)] = [146464.0, 120343.18703735239]\n"
     ]
    },
    {
     "data": {
      "text/plain": [
       "2-element Vector{Float64}:\n",
       " 146464.0\n",
       " 120343.18703735239"
      ]
     },
     "execution_count": 111,
     "metadata": {},
     "output_type": "execute_result"
    }
   ],
   "source": [
    "@show [sum(M), sum(ξ̂)]"
   ]
  },
  {
   "cell_type": "code",
   "execution_count": null,
   "id": "3f96039e-4a27-4ac6-b4d8-763ef6d0ee25",
   "metadata": {},
   "outputs": [],
   "source": []
  }
 ],
 "metadata": {
  "kernelspec": {
   "display_name": "Julia 1.8.3",
   "language": "julia",
   "name": "julia-1.8"
  },
  "language_info": {
   "file_extension": ".jl",
   "mimetype": "application/julia",
   "name": "julia",
   "version": "1.8.3"
  }
 },
 "nbformat": 4,
 "nbformat_minor": 5
}
