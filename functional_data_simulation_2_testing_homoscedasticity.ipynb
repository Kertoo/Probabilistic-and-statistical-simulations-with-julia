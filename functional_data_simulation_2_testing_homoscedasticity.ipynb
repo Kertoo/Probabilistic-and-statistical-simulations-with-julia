{
 "cells": [
  {
   "cell_type": "code",
   "execution_count": null,
   "id": "de03145a-13b0-4384-9e0f-a3c488c6caff",
   "metadata": {},
   "outputs": [],
   "source": [
    "using DataFrames\n",
    "using Random, Distributions, Statistics, Plots, ProgressMeter\n",
    "Random.seed!(123)\n",
    "d = Normal();"
   ]
  },
  {
   "cell_type": "code",
   "execution_count": null,
   "id": "d549091a-7184-45b9-8d77-3f9e520d2d35",
   "metadata": {},
   "outputs": [],
   "source": []
  }
 ],
 "metadata": {
  "kernelspec": {
   "display_name": "Julia 1.8.3",
   "language": "julia",
   "name": "julia-1.8"
  },
  "language_info": {
   "file_extension": ".jl",
   "mimetype": "application/julia",
   "name": "julia",
   "version": "1.8.3"
  }
 },
 "nbformat": 4,
 "nbformat_minor": 5
}
